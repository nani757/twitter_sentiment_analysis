{
 "cells": [
  {
   "cell_type": "code",
   "execution_count": 6,
   "metadata": {},
   "outputs": [],
   "source": [
    "import pandas as pd\n",
    "import numpy as np\n",
    "import nltk\n",
    "import re"
   ]
  },
  {
   "cell_type": "code",
   "execution_count": 7,
   "metadata": {},
   "outputs": [
    {
     "data": {
      "text/plain": [
       "11"
      ]
     },
     "execution_count": 7,
     "metadata": {},
     "output_type": "execute_result"
    }
   ],
   "source": [
    "5+6"
   ]
  },
  {
   "cell_type": "code",
   "execution_count": 8,
   "metadata": {},
   "outputs": [
    {
     "data": {
      "text/plain": [
       "'3.8.1'"
      ]
     },
     "execution_count": 8,
     "metadata": {},
     "output_type": "execute_result"
    }
   ],
   "source": [
    "import nltk\n",
    "nltk.__version__"
   ]
  },
  {
   "cell_type": "code",
   "execution_count": 9,
   "metadata": {},
   "outputs": [],
   "source": [
    "import pandas as pd\n",
    "import numpy as np\n",
    "import matplotlib.pyplot as plt\n",
    "import seaborn as sns\n",
    "import re\n",
    "import nltk\n",
    "from nltk.corpus import stopwords\n",
    "from nltk.stem import WordNetLemmatizer\n",
    "from sklearn.model_selection import train_test_split\n",
    "from sklearn.feature_extraction.text import CountVectorizer, TfidfVectorizer\n",
    "from sklearn.metrics import classification_report, confusion_matrix, accuracy_score\n",
    "from sklearn.naive_bayes import MultinomialNB\n"
   ]
  },
  {
   "cell_type": "code",
   "execution_count": 10,
   "metadata": {},
   "outputs": [
    {
     "data": {
      "text/html": [
       "<div>\n",
       "<style scoped>\n",
       "    .dataframe tbody tr th:only-of-type {\n",
       "        vertical-align: middle;\n",
       "    }\n",
       "\n",
       "    .dataframe tbody tr th {\n",
       "        vertical-align: top;\n",
       "    }\n",
       "\n",
       "    .dataframe thead th {\n",
       "        text-align: right;\n",
       "    }\n",
       "</style>\n",
       "<table border=\"1\" class=\"dataframe\">\n",
       "  <thead>\n",
       "    <tr style=\"text-align: right;\">\n",
       "      <th></th>\n",
       "      <th>target</th>\n",
       "      <th>unique_id</th>\n",
       "      <th>date</th>\n",
       "      <th>flag</th>\n",
       "      <th>user_id</th>\n",
       "      <th>text</th>\n",
       "    </tr>\n",
       "  </thead>\n",
       "  <tbody>\n",
       "    <tr>\n",
       "      <th>273623</th>\n",
       "      <td>0</td>\n",
       "      <td>1990437839</td>\n",
       "      <td>Mon Jun 01 04:52:14 PDT 2009</td>\n",
       "      <td>NO_QUERY</td>\n",
       "      <td>auntieflo</td>\n",
       "      <td>to do: dark + light + bedding wash, trinity ap...</td>\n",
       "    </tr>\n",
       "    <tr>\n",
       "      <th>771230</th>\n",
       "      <td>0</td>\n",
       "      <td>2302287583</td>\n",
       "      <td>Tue Jun 23 16:35:53 PDT 2009</td>\n",
       "      <td>NO_QUERY</td>\n",
       "      <td>JennyBoBennyy</td>\n",
       "      <td>Damn if its raining in the city its probably g...</td>\n",
       "    </tr>\n",
       "    <tr>\n",
       "      <th>418326</th>\n",
       "      <td>0</td>\n",
       "      <td>2061740580</td>\n",
       "      <td>Sat Jun 06 21:30:40 PDT 2009</td>\n",
       "      <td>NO_QUERY</td>\n",
       "      <td>realchrissystar</td>\n",
       "      <td>Really bad night for Grams  ..Got a few cracke...</td>\n",
       "    </tr>\n",
       "    <tr>\n",
       "      <th>1322517</th>\n",
       "      <td>4</td>\n",
       "      <td>2014803277</td>\n",
       "      <td>Wed Jun 03 02:44:23 PDT 2009</td>\n",
       "      <td>NO_QUERY</td>\n",
       "      <td>raquelaberakiki</td>\n",
       "      <td>Photo: just wanna show you my pink guitar..  h...</td>\n",
       "    </tr>\n",
       "    <tr>\n",
       "      <th>487001</th>\n",
       "      <td>0</td>\n",
       "      <td>2181871341</td>\n",
       "      <td>Mon Jun 15 12:24:41 PDT 2009</td>\n",
       "      <td>NO_QUERY</td>\n",
       "      <td>HeroesJonas7495</td>\n",
       "      <td>http://twitpic.com/7hhd0 - Ok, this is my favo...</td>\n",
       "    </tr>\n",
       "    <tr>\n",
       "      <th>1032160</th>\n",
       "      <td>4</td>\n",
       "      <td>1933161370</td>\n",
       "      <td>Tue May 26 23:09:24 PDT 2009</td>\n",
       "      <td>NO_QUERY</td>\n",
       "      <td>mhaemee</td>\n",
       "      <td>@faye42397 thanks for following me .</td>\n",
       "    </tr>\n",
       "    <tr>\n",
       "      <th>13529</th>\n",
       "      <td>0</td>\n",
       "      <td>1553295553</td>\n",
       "      <td>Sat Apr 18 13:53:13 PDT 2009</td>\n",
       "      <td>NO_QUERY</td>\n",
       "      <td>Ciel_Rouge</td>\n",
       "      <td>Stuck in traffic on the Cross Bronx</td>\n",
       "    </tr>\n",
       "    <tr>\n",
       "      <th>1158501</th>\n",
       "      <td>4</td>\n",
       "      <td>1979271225</td>\n",
       "      <td>Sun May 31 02:20:04 PDT 2009</td>\n",
       "      <td>NO_QUERY</td>\n",
       "      <td>BoxRoom</td>\n",
       "      <td>@revoltingross Oop, missed this message. Yes, ...</td>\n",
       "    </tr>\n",
       "    <tr>\n",
       "      <th>1202955</th>\n",
       "      <td>4</td>\n",
       "      <td>1985947132</td>\n",
       "      <td>Sun May 31 18:04:25 PDT 2009</td>\n",
       "      <td>NO_QUERY</td>\n",
       "      <td>tinkhanson</td>\n",
       "      <td>@jennyquotes Thanks for the great suggestions!...</td>\n",
       "    </tr>\n",
       "    <tr>\n",
       "      <th>1206776</th>\n",
       "      <td>4</td>\n",
       "      <td>1986881327</td>\n",
       "      <td>Sun May 31 19:27:16 PDT 2009</td>\n",
       "      <td>NO_QUERY</td>\n",
       "      <td>desmondngai</td>\n",
       "      <td>@cafedavid me need more kgs &amp;amp; muscles too!</td>\n",
       "    </tr>\n",
       "  </tbody>\n",
       "</table>\n",
       "</div>"
      ],
      "text/plain": [
       "         target   unique_id                          date      flag  \\\n",
       "273623        0  1990437839  Mon Jun 01 04:52:14 PDT 2009  NO_QUERY   \n",
       "771230        0  2302287583  Tue Jun 23 16:35:53 PDT 2009  NO_QUERY   \n",
       "418326        0  2061740580  Sat Jun 06 21:30:40 PDT 2009  NO_QUERY   \n",
       "1322517       4  2014803277  Wed Jun 03 02:44:23 PDT 2009  NO_QUERY   \n",
       "487001        0  2181871341  Mon Jun 15 12:24:41 PDT 2009  NO_QUERY   \n",
       "1032160       4  1933161370  Tue May 26 23:09:24 PDT 2009  NO_QUERY   \n",
       "13529         0  1553295553  Sat Apr 18 13:53:13 PDT 2009  NO_QUERY   \n",
       "1158501       4  1979271225  Sun May 31 02:20:04 PDT 2009  NO_QUERY   \n",
       "1202955       4  1985947132  Sun May 31 18:04:25 PDT 2009  NO_QUERY   \n",
       "1206776       4  1986881327  Sun May 31 19:27:16 PDT 2009  NO_QUERY   \n",
       "\n",
       "                 user_id                                               text  \n",
       "273623         auntieflo  to do: dark + light + bedding wash, trinity ap...  \n",
       "771230     JennyBoBennyy  Damn if its raining in the city its probably g...  \n",
       "418326   realchrissystar  Really bad night for Grams  ..Got a few cracke...  \n",
       "1322517  raquelaberakiki  Photo: just wanna show you my pink guitar..  h...  \n",
       "487001   HeroesJonas7495  http://twitpic.com/7hhd0 - Ok, this is my favo...  \n",
       "1032160          mhaemee              @faye42397 thanks for following me .   \n",
       "13529         Ciel_Rouge               Stuck in traffic on the Cross Bronx   \n",
       "1158501          BoxRoom  @revoltingross Oop, missed this message. Yes, ...  \n",
       "1202955       tinkhanson  @jennyquotes Thanks for the great suggestions!...  \n",
       "1206776      desmondngai    @cafedavid me need more kgs &amp; muscles too!   "
      ]
     },
     "execution_count": 10,
     "metadata": {},
     "output_type": "execute_result"
    }
   ],
   "source": [
    "# df = pd.read_csv(\"training.csv\", encoding=\"ISO-8859-1\")\n",
    "df = pd.read_csv(\"training.csv\", header=None, names=[\"target\", \"unique_id\", \"date\", \"flag\", \"user_id\", \"text\"], encoding=\"ISO-8859-1\")\n",
    "df.sample(10)"
   ]
  },
  {
   "cell_type": "code",
   "execution_count": 11,
   "metadata": {},
   "outputs": [
    {
     "name": "stdout",
     "output_type": "stream",
     "text": [
      "<class 'pandas.core.frame.DataFrame'>\n",
      "RangeIndex: 1600000 entries, 0 to 1599999\n",
      "Data columns (total 6 columns):\n",
      " #   Column     Non-Null Count    Dtype \n",
      "---  ------     --------------    ----- \n",
      " 0   target     1600000 non-null  int64 \n",
      " 1   unique_id  1600000 non-null  int64 \n",
      " 2   date       1600000 non-null  object\n",
      " 3   flag       1600000 non-null  object\n",
      " 4   user_id    1600000 non-null  object\n",
      " 5   text       1600000 non-null  object\n",
      "dtypes: int64(2), object(4)\n",
      "memory usage: 73.2+ MB\n"
     ]
    }
   ],
   "source": [
    "df.info()"
   ]
  },
  {
   "cell_type": "code",
   "execution_count": 12,
   "metadata": {},
   "outputs": [
    {
     "data": {
      "text/plain": [
       "(1600000, 6)"
      ]
     },
     "execution_count": 12,
     "metadata": {},
     "output_type": "execute_result"
    }
   ],
   "source": [
    "df.shape"
   ]
  },
  {
   "cell_type": "code",
   "execution_count": 13,
   "metadata": {},
   "outputs": [],
   "source": [
    "df.drop(['unique_id','date','flag','user_id'], axis = 1, inplace = True) "
   ]
  },
  {
   "cell_type": "code",
   "execution_count": 14,
   "metadata": {},
   "outputs": [
    {
     "name": "stdout",
     "output_type": "stream",
     "text": [
      "<class 'pandas.core.frame.DataFrame'>\n",
      "RangeIndex: 1600000 entries, 0 to 1599999\n",
      "Data columns (total 2 columns):\n",
      " #   Column  Non-Null Count    Dtype \n",
      "---  ------  --------------    ----- \n",
      " 0   target  1600000 non-null  int64 \n",
      " 1   text    1600000 non-null  object\n",
      "dtypes: int64(1), object(1)\n",
      "memory usage: 24.4+ MB\n"
     ]
    }
   ],
   "source": [
    "df.info()"
   ]
  },
  {
   "cell_type": "code",
   "execution_count": 15,
   "metadata": {},
   "outputs": [
    {
     "data": {
      "text/html": [
       "<div>\n",
       "<style scoped>\n",
       "    .dataframe tbody tr th:only-of-type {\n",
       "        vertical-align: middle;\n",
       "    }\n",
       "\n",
       "    .dataframe tbody tr th {\n",
       "        vertical-align: top;\n",
       "    }\n",
       "\n",
       "    .dataframe thead th {\n",
       "        text-align: right;\n",
       "    }\n",
       "</style>\n",
       "<table border=\"1\" class=\"dataframe\">\n",
       "  <thead>\n",
       "    <tr style=\"text-align: right;\">\n",
       "      <th></th>\n",
       "      <th>target</th>\n",
       "      <th>text</th>\n",
       "    </tr>\n",
       "  </thead>\n",
       "  <tbody>\n",
       "    <tr>\n",
       "      <th>19136</th>\n",
       "      <td>0</td>\n",
       "      <td>standing outside in the cold</td>\n",
       "    </tr>\n",
       "    <tr>\n",
       "      <th>1306987</th>\n",
       "      <td>4</td>\n",
       "      <td>@myrtlebeachblog Meh</td>\n",
       "    </tr>\n",
       "    <tr>\n",
       "      <th>694878</th>\n",
       "      <td>0</td>\n",
       "      <td>Tried doing another 10Km jog 2day but managed ...</td>\n",
       "    </tr>\n",
       "    <tr>\n",
       "      <th>23417</th>\n",
       "      <td>0</td>\n",
       "      <td>I can't sleep  I can't stop thinking about wha...</td>\n",
       "    </tr>\n",
       "    <tr>\n",
       "      <th>329938</th>\n",
       "      <td>0</td>\n",
       "      <td>Knees still hurt</td>\n",
       "    </tr>\n",
       "    <tr>\n",
       "      <th>1031424</th>\n",
       "      <td>4</td>\n",
       "      <td>@Aashay ya ppl are really warm/open there. whe...</td>\n",
       "    </tr>\n",
       "    <tr>\n",
       "      <th>853172</th>\n",
       "      <td>4</td>\n",
       "      <td>Morning all and what a glorious one it is in M...</td>\n",
       "    </tr>\n",
       "    <tr>\n",
       "      <th>495515</th>\n",
       "      <td>0</td>\n",
       "      <td>wish i could have curly hair. oh wish i could....</td>\n",
       "    </tr>\n",
       "    <tr>\n",
       "      <th>1324851</th>\n",
       "      <td>4</td>\n",
       "      <td>The gas station was closed. So i peed by the d...</td>\n",
       "    </tr>\n",
       "    <tr>\n",
       "      <th>1251324</th>\n",
       "      <td>4</td>\n",
       "      <td>hot hot hotttttttttttttttttttttttttttttttttttt...</td>\n",
       "    </tr>\n",
       "  </tbody>\n",
       "</table>\n",
       "</div>"
      ],
      "text/plain": [
       "         target                                               text\n",
       "19136         0                      standing outside in the cold \n",
       "1306987       4                              @myrtlebeachblog Meh \n",
       "694878        0  Tried doing another 10Km jog 2day but managed ...\n",
       "23417         0  I can't sleep  I can't stop thinking about wha...\n",
       "329938        0                                  Knees still hurt \n",
       "1031424       4  @Aashay ya ppl are really warm/open there. whe...\n",
       "853172        4  Morning all and what a glorious one it is in M...\n",
       "495515        0  wish i could have curly hair. oh wish i could....\n",
       "1324851       4  The gas station was closed. So i peed by the d...\n",
       "1251324       4  hot hot hotttttttttttttttttttttttttttttttttttt..."
      ]
     },
     "execution_count": 15,
     "metadata": {},
     "output_type": "execute_result"
    }
   ],
   "source": [
    "df.sample(10)"
   ]
  },
  {
   "cell_type": "code",
   "execution_count": 16,
   "metadata": {},
   "outputs": [],
   "source": [
    "df.rename(columns={'target': 'sentiment', 'text': 'tweet'}, inplace = True)"
   ]
  },
  {
   "cell_type": "code",
   "execution_count": 17,
   "metadata": {},
   "outputs": [
    {
     "data": {
      "text/html": [
       "<div>\n",
       "<style scoped>\n",
       "    .dataframe tbody tr th:only-of-type {\n",
       "        vertical-align: middle;\n",
       "    }\n",
       "\n",
       "    .dataframe tbody tr th {\n",
       "        vertical-align: top;\n",
       "    }\n",
       "\n",
       "    .dataframe thead th {\n",
       "        text-align: right;\n",
       "    }\n",
       "</style>\n",
       "<table border=\"1\" class=\"dataframe\">\n",
       "  <thead>\n",
       "    <tr style=\"text-align: right;\">\n",
       "      <th></th>\n",
       "      <th>sentiment</th>\n",
       "      <th>tweet</th>\n",
       "    </tr>\n",
       "  </thead>\n",
       "  <tbody>\n",
       "    <tr>\n",
       "      <th>529591</th>\n",
       "      <td>0</td>\n",
       "      <td>this sucks. i'm stuck at home. i really need t...</td>\n",
       "    </tr>\n",
       "    <tr>\n",
       "      <th>1327704</th>\n",
       "      <td>4</td>\n",
       "      <td>#Sims 3: Lots of fun.  Amazingly flexible item...</td>\n",
       "    </tr>\n",
       "    <tr>\n",
       "      <th>1562414</th>\n",
       "      <td>4</td>\n",
       "      <td>@ashleytisdale Yesssss Of Course! Baltimore MD...</td>\n",
       "    </tr>\n",
       "    <tr>\n",
       "      <th>647105</th>\n",
       "      <td>0</td>\n",
       "      <td>@so_hailish me too..:/ music school in the aft...</td>\n",
       "    </tr>\n",
       "    <tr>\n",
       "      <th>620902</th>\n",
       "      <td>0</td>\n",
       "      <td>sleepy... i wish i could take a nap.</td>\n",
       "    </tr>\n",
       "    <tr>\n",
       "      <th>36089</th>\n",
       "      <td>0</td>\n",
       "      <td>Up and at it early...work tonight</td>\n",
       "    </tr>\n",
       "    <tr>\n",
       "      <th>689725</th>\n",
       "      <td>0</td>\n",
       "      <td>Uh oh got a caffiene headace too tired now</td>\n",
       "    </tr>\n",
       "    <tr>\n",
       "      <th>748176</th>\n",
       "      <td>0</td>\n",
       "      <td>2nd day of summer and I need to turn on the he...</td>\n",
       "    </tr>\n",
       "    <tr>\n",
       "      <th>469664</th>\n",
       "      <td>0</td>\n",
       "      <td>hope it doesnt thunder today but its meant 2</td>\n",
       "    </tr>\n",
       "    <tr>\n",
       "      <th>1267055</th>\n",
       "      <td>4</td>\n",
       "      <td>@officialTila Well, that's something to be pro...</td>\n",
       "    </tr>\n",
       "  </tbody>\n",
       "</table>\n",
       "</div>"
      ],
      "text/plain": [
       "         sentiment                                              tweet\n",
       "529591           0  this sucks. i'm stuck at home. i really need t...\n",
       "1327704          4  #Sims 3: Lots of fun.  Amazingly flexible item...\n",
       "1562414          4  @ashleytisdale Yesssss Of Course! Baltimore MD...\n",
       "647105           0  @so_hailish me too..:/ music school in the aft...\n",
       "620902           0              sleepy... i wish i could take a nap. \n",
       "36089            0                 Up and at it early...work tonight \n",
       "689725           0        Uh oh got a caffiene headace too tired now \n",
       "748176           0  2nd day of summer and I need to turn on the he...\n",
       "469664           0      hope it doesnt thunder today but its meant 2 \n",
       "1267055          4  @officialTila Well, that's something to be pro..."
      ]
     },
     "execution_count": 17,
     "metadata": {},
     "output_type": "execute_result"
    }
   ],
   "source": [
    "df.sample(10)"
   ]
  },
  {
   "cell_type": "code",
   "execution_count": 18,
   "metadata": {},
   "outputs": [
    {
     "data": {
      "text/html": [
       "<div>\n",
       "<style scoped>\n",
       "    .dataframe tbody tr th:only-of-type {\n",
       "        vertical-align: middle;\n",
       "    }\n",
       "\n",
       "    .dataframe tbody tr th {\n",
       "        vertical-align: top;\n",
       "    }\n",
       "\n",
       "    .dataframe thead th {\n",
       "        text-align: right;\n",
       "    }\n",
       "</style>\n",
       "<table border=\"1\" class=\"dataframe\">\n",
       "  <thead>\n",
       "    <tr style=\"text-align: right;\">\n",
       "      <th></th>\n",
       "      <th>sentiment</th>\n",
       "      <th>tweet</th>\n",
       "    </tr>\n",
       "  </thead>\n",
       "  <tbody>\n",
       "    <tr>\n",
       "      <th>110625</th>\n",
       "      <td>0</td>\n",
       "      <td>i missed merlin again</td>\n",
       "    </tr>\n",
       "    <tr>\n",
       "      <th>135900</th>\n",
       "      <td>0</td>\n",
       "      <td>@starafar thanks pat. ive tried ripping it wit...</td>\n",
       "    </tr>\n",
       "    <tr>\n",
       "      <th>931558</th>\n",
       "      <td>4</td>\n",
       "      <td>@hma4983 You are welcome, lady!</td>\n",
       "    </tr>\n",
       "    <tr>\n",
       "      <th>728803</th>\n",
       "      <td>0</td>\n",
       "      <td>3 more hours 2 go.</td>\n",
       "    </tr>\n",
       "    <tr>\n",
       "      <th>1430611</th>\n",
       "      <td>4</td>\n",
       "      <td>got a picnic to go to tomoz!!!!!!!!!  listenin...</td>\n",
       "    </tr>\n",
       "    <tr>\n",
       "      <th>427515</th>\n",
       "      <td>0</td>\n",
       "      <td>Hearing dark, dark rumours about the #f1 this ...</td>\n",
       "    </tr>\n",
       "    <tr>\n",
       "      <th>1498388</th>\n",
       "      <td>4</td>\n",
       "      <td>@liteNup http://twitpic.com/6vh79 - not in a m...</td>\n",
       "    </tr>\n",
       "    <tr>\n",
       "      <th>1252376</th>\n",
       "      <td>4</td>\n",
       "      <td>@sontortillas get a 450d (rebel xsi)  entry le...</td>\n",
       "    </tr>\n",
       "    <tr>\n",
       "      <th>1587180</th>\n",
       "      <td>4</td>\n",
       "      <td>Exchange SmÃ¸rrebrÃ¸d with Tapas</td>\n",
       "    </tr>\n",
       "    <tr>\n",
       "      <th>742539</th>\n",
       "      <td>0</td>\n",
       "      <td>@WeatherKim Sorry I couldn't tell you and Angi...</td>\n",
       "    </tr>\n",
       "  </tbody>\n",
       "</table>\n",
       "</div>"
      ],
      "text/plain": [
       "         sentiment                                              tweet\n",
       "110625           0                             i missed merlin again \n",
       "135900           0  @starafar thanks pat. ive tried ripping it wit...\n",
       "931558           4                   @hma4983 You are welcome, lady! \n",
       "728803           0                               3 more hours 2 go.  \n",
       "1430611          4  got a picnic to go to tomoz!!!!!!!!!  listenin...\n",
       "427515           0  Hearing dark, dark rumours about the #f1 this ...\n",
       "1498388          4  @liteNup http://twitpic.com/6vh79 - not in a m...\n",
       "1252376          4  @sontortillas get a 450d (rebel xsi)  entry le...\n",
       "1587180          4                  Exchange SmÃ¸rrebrÃ¸d with Tapas \n",
       "742539           0  @WeatherKim Sorry I couldn't tell you and Angi..."
      ]
     },
     "execution_count": 18,
     "metadata": {},
     "output_type": "execute_result"
    }
   ],
   "source": [
    "df = df.dropna()\n",
    "df.sample(10)"
   ]
  },
  {
   "cell_type": "code",
   "execution_count": 19,
   "metadata": {},
   "outputs": [
    {
     "name": "stdout",
     "output_type": "stream",
     "text": [
      "<class 'pandas.core.frame.DataFrame'>\n",
      "RangeIndex: 1600000 entries, 0 to 1599999\n",
      "Data columns (total 2 columns):\n",
      " #   Column     Non-Null Count    Dtype \n",
      "---  ------     --------------    ----- \n",
      " 0   sentiment  1600000 non-null  int64 \n",
      " 1   tweet      1600000 non-null  object\n",
      "dtypes: int64(1), object(1)\n",
      "memory usage: 24.4+ MB\n",
      "None\n",
      "The Shape Of The Dataset Is : (1600000, 2)\n"
     ]
    }
   ],
   "source": [
    "print(df.info())\n",
    "print(\"The Shape Of The Dataset Is :\",df.shape)"
   ]
  },
  {
   "cell_type": "code",
   "execution_count": 20,
   "metadata": {},
   "outputs": [],
   "source": [
    "df['sentiment'] = df['sentiment'].replace({0: 'negative', 4: 'positive'})"
   ]
  },
  {
   "cell_type": "code",
   "execution_count": 21,
   "metadata": {},
   "outputs": [
    {
     "data": {
      "text/html": [
       "<div>\n",
       "<style scoped>\n",
       "    .dataframe tbody tr th:only-of-type {\n",
       "        vertical-align: middle;\n",
       "    }\n",
       "\n",
       "    .dataframe tbody tr th {\n",
       "        vertical-align: top;\n",
       "    }\n",
       "\n",
       "    .dataframe thead th {\n",
       "        text-align: right;\n",
       "    }\n",
       "</style>\n",
       "<table border=\"1\" class=\"dataframe\">\n",
       "  <thead>\n",
       "    <tr style=\"text-align: right;\">\n",
       "      <th></th>\n",
       "      <th>sentiment</th>\n",
       "      <th>tweet</th>\n",
       "    </tr>\n",
       "  </thead>\n",
       "  <tbody>\n",
       "    <tr>\n",
       "      <th>401724</th>\n",
       "      <td>negative</td>\n",
       "      <td>Why did YouTube suspend the Jonas Brothers' ac...</td>\n",
       "    </tr>\n",
       "    <tr>\n",
       "      <th>586974</th>\n",
       "      <td>negative</td>\n",
       "      <td>@kencarr Poor baby   I hope you feel better.  ...</td>\n",
       "    </tr>\n",
       "    <tr>\n",
       "      <th>1058200</th>\n",
       "      <td>positive</td>\n",
       "      <td>@alexbrannan 'get twitter.com and follow me @a...</td>\n",
       "    </tr>\n",
       "    <tr>\n",
       "      <th>417143</th>\n",
       "      <td>negative</td>\n",
       "      <td>@paulinahearts haha don't even whatt??? btw yo...</td>\n",
       "    </tr>\n",
       "    <tr>\n",
       "      <th>394702</th>\n",
       "      <td>negative</td>\n",
       "      <td>@bethbabezz lmao beth, nope  , well not yet.. ...</td>\n",
       "    </tr>\n",
       "  </tbody>\n",
       "</table>\n",
       "</div>"
      ],
      "text/plain": [
       "        sentiment                                              tweet\n",
       "401724   negative  Why did YouTube suspend the Jonas Brothers' ac...\n",
       "586974   negative  @kencarr Poor baby   I hope you feel better.  ...\n",
       "1058200  positive  @alexbrannan 'get twitter.com and follow me @a...\n",
       "417143   negative  @paulinahearts haha don't even whatt??? btw yo...\n",
       "394702   negative  @bethbabezz lmao beth, nope  , well not yet.. ..."
      ]
     },
     "execution_count": 21,
     "metadata": {},
     "output_type": "execute_result"
    }
   ],
   "source": [
    "df.sample(5)"
   ]
  },
  {
   "cell_type": "code",
   "execution_count": 22,
   "metadata": {},
   "outputs": [],
   "source": [
    "# Remove URLs, special characters, punctuation, and numbers from tweet column\n",
    "df['tweet'] = df['tweet'].apply(lambda x: re.sub(r'http\\S+', '', x))\n",
    "df['tweet'] = df['tweet'].apply(lambda x: re.sub('[^a-zA-Z\\s]', '', x))\n",
    "df['tweet'] = df['tweet'].apply(lambda x: re.sub('[0-9]+', '', x))\n"
   ]
  },
  {
   "cell_type": "code",
   "execution_count": 23,
   "metadata": {},
   "outputs": [
    {
     "name": "stdout",
     "output_type": "stream",
     "text": [
      "        sentiment                                              tweet\n",
      "810067   positive  Goes without saying Funnest night of my life j...\n",
      "921482   positive                                  amalinaaa what  x\n",
      "212895   negative  heybabeitsnikki been there done that i cried e...\n",
      "381955   negative                 geeshadowsxo oh dont cry please  x\n",
      "18693    negative                      You make me wanna cry iPhone \n",
      "1059818  positive  Wow In three weeks Im flying to Rome Im so exc...\n",
      "666635   negative                                   charcoalfeather \n",
      "659429   negative  I pulled the battery out and it still wont upl...\n",
      "171580   negative  nickjfrost thats what i tell everyone their fo...\n",
      "279008   negative    nbonsack haha yes I dont have any of there CDs \n",
      "\u001b[1mThe information of the dataset is :\u001b[0m\n",
      "<class 'pandas.core.frame.DataFrame'>\n",
      "RangeIndex: 1600000 entries, 0 to 1599999\n",
      "Data columns (total 2 columns):\n",
      " #   Column     Non-Null Count    Dtype \n",
      "---  ------     --------------    ----- \n",
      " 0   sentiment  1600000 non-null  object\n",
      " 1   tweet      1600000 non-null  object\n",
      "dtypes: object(2)\n",
      "memory usage: 24.4+ MB\n",
      "None\n",
      "\u001b[1mThe Shape Of The Dataset Is :\u001b[0m (1600000, 2)\n"
     ]
    }
   ],
   "source": [
    "print(df.sample(10))\n",
    "print('\\033[1m' + 'The information of the dataset is :' + '\\033[0m')\n",
    "print(df.info())\n",
    "print('\\033[1m' + 'The Shape Of The Dataset Is :' + '\\033[0m',df.shape)"
   ]
  },
  {
   "cell_type": "code",
   "execution_count": 24,
   "metadata": {},
   "outputs": [],
   "source": [
    "df['tweet'] = df['tweet'].str.lower()"
   ]
  },
  {
   "cell_type": "code",
   "execution_count": 25,
   "metadata": {},
   "outputs": [
    {
     "data": {
      "text/html": [
       "<div>\n",
       "<style scoped>\n",
       "    .dataframe tbody tr th:only-of-type {\n",
       "        vertical-align: middle;\n",
       "    }\n",
       "\n",
       "    .dataframe tbody tr th {\n",
       "        vertical-align: top;\n",
       "    }\n",
       "\n",
       "    .dataframe thead th {\n",
       "        text-align: right;\n",
       "    }\n",
       "</style>\n",
       "<table border=\"1\" class=\"dataframe\">\n",
       "  <thead>\n",
       "    <tr style=\"text-align: right;\">\n",
       "      <th></th>\n",
       "      <th>sentiment</th>\n",
       "      <th>tweet</th>\n",
       "    </tr>\n",
       "  </thead>\n",
       "  <tbody>\n",
       "    <tr>\n",
       "      <th>1081125</th>\n",
       "      <td>positive</td>\n",
       "      <td>at edwards cinema in lb with richiedigs</td>\n",
       "    </tr>\n",
       "    <tr>\n",
       "      <th>853271</th>\n",
       "      <td>positive</td>\n",
       "      <td>i  think were all lookin forward to hearing it...</td>\n",
       "    </tr>\n",
       "    <tr>\n",
       "      <th>649510</th>\n",
       "      <td>negative</td>\n",
       "      <td>uhohhippos and i miss you too i found somethin...</td>\n",
       "    </tr>\n",
       "    <tr>\n",
       "      <th>534673</th>\n",
       "      <td>negative</td>\n",
       "      <td>my internet has been down for ever a beloved h...</td>\n",
       "    </tr>\n",
       "    <tr>\n",
       "      <th>374215</th>\n",
       "      <td>negative</td>\n",
       "      <td>hthemovie halloween got banned in thailand  su...</td>\n",
       "    </tr>\n",
       "    <tr>\n",
       "      <th>838547</th>\n",
       "      <td>positive</td>\n",
       "      <td>quotthe future of foodquot is on hulucom go ch...</td>\n",
       "    </tr>\n",
       "    <tr>\n",
       "      <th>687751</th>\n",
       "      <td>negative</td>\n",
       "      <td>i need followers tweetfakes</td>\n",
       "    </tr>\n",
       "    <tr>\n",
       "      <th>1142501</th>\n",
       "      <td>positive</td>\n",
       "      <td>bostonwriter stop quit become a chef the hilar...</td>\n",
       "    </tr>\n",
       "    <tr>\n",
       "      <th>437054</th>\n",
       "      <td>negative</td>\n",
       "      <td>janelle i ate her flowers   she is more patien...</td>\n",
       "    </tr>\n",
       "    <tr>\n",
       "      <th>222131</th>\n",
       "      <td>negative</td>\n",
       "      <td>ouchyyy booo  headache going to beed right now...</td>\n",
       "    </tr>\n",
       "  </tbody>\n",
       "</table>\n",
       "</div>"
      ],
      "text/plain": [
       "        sentiment                                              tweet\n",
       "1081125  positive           at edwards cinema in lb with richiedigs \n",
       "853271   positive  i  think were all lookin forward to hearing it...\n",
       "649510   negative  uhohhippos and i miss you too i found somethin...\n",
       "534673   negative  my internet has been down for ever a beloved h...\n",
       "374215   negative  hthemovie halloween got banned in thailand  su...\n",
       "838547   positive  quotthe future of foodquot is on hulucom go ch...\n",
       "687751   negative                       i need followers tweetfakes \n",
       "1142501  positive  bostonwriter stop quit become a chef the hilar...\n",
       "437054   negative  janelle i ate her flowers   she is more patien...\n",
       "222131   negative  ouchyyy booo  headache going to beed right now..."
      ]
     },
     "execution_count": 25,
     "metadata": {},
     "output_type": "execute_result"
    }
   ],
   "source": [
    "df.sample(10)"
   ]
  },
  {
   "cell_type": "code",
   "execution_count": 26,
   "metadata": {},
   "outputs": [],
   "source": [
    "# stop_words = set(stopwords.words('english'))\n",
    "# df['tweet'] = df['tweet'].apply(lambda x: ' '.join(word for word in x.split() if word not in stop_words))"
   ]
  },
  {
   "cell_type": "code",
   "execution_count": null,
   "metadata": {},
   "outputs": [],
   "source": []
  }
 ],
 "metadata": {
  "kernelspec": {
   "display_name": "env",
   "language": "python",
   "name": "python3"
  },
  "language_info": {
   "codemirror_mode": {
    "name": "ipython",
    "version": 3
   },
   "file_extension": ".py",
   "mimetype": "text/x-python",
   "name": "python",
   "nbconvert_exporter": "python",
   "pygments_lexer": "ipython3",
   "version": "3.10.6"
  },
  "orig_nbformat": 4
 },
 "nbformat": 4,
 "nbformat_minor": 2
}
