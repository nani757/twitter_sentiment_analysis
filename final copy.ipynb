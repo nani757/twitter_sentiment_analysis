{
 "cells": [
  {
   "cell_type": "code",
   "execution_count": 1,
   "metadata": {},
   "outputs": [],
   "source": [
    "import pandas as pd\n",
    "import numpy as np\n",
    "import nltk\n",
    "import re"
   ]
  },
  {
   "cell_type": "code",
   "execution_count": 2,
   "metadata": {},
   "outputs": [
    {
     "data": {
      "text/plain": [
       "'3.8.1'"
      ]
     },
     "execution_count": 2,
     "metadata": {},
     "output_type": "execute_result"
    }
   ],
   "source": [
    "import nltk\n",
    "nltk.__version__\n",
    "\n"
   ]
  },
  {
   "cell_type": "code",
   "execution_count": 3,
   "metadata": {},
   "outputs": [
    {
     "name": "stderr",
     "output_type": "stream",
     "text": [
      "[nltk_data] Error loading stopwords: <urlopen error [Errno 104]\n",
      "[nltk_data]     Connection reset by peer>\n"
     ]
    },
    {
     "data": {
      "text/plain": [
       "False"
      ]
     },
     "execution_count": 3,
     "metadata": {},
     "output_type": "execute_result"
    }
   ],
   "source": [
    "nltk.download('stopwords')"
   ]
  },
  {
   "cell_type": "code",
   "execution_count": 4,
   "metadata": {},
   "outputs": [
    {
     "data": {
      "text/html": [
       "<div>\n",
       "<style scoped>\n",
       "    .dataframe tbody tr th:only-of-type {\n",
       "        vertical-align: middle;\n",
       "    }\n",
       "\n",
       "    .dataframe tbody tr th {\n",
       "        vertical-align: top;\n",
       "    }\n",
       "\n",
       "    .dataframe thead th {\n",
       "        text-align: right;\n",
       "    }\n",
       "</style>\n",
       "<table border=\"1\" class=\"dataframe\">\n",
       "  <thead>\n",
       "    <tr style=\"text-align: right;\">\n",
       "      <th></th>\n",
       "      <th>target</th>\n",
       "      <th>unique_id</th>\n",
       "      <th>date</th>\n",
       "      <th>flag</th>\n",
       "      <th>user_id</th>\n",
       "      <th>text</th>\n",
       "    </tr>\n",
       "  </thead>\n",
       "  <tbody>\n",
       "    <tr>\n",
       "      <th>1392430</th>\n",
       "      <td>4</td>\n",
       "      <td>2053413883</td>\n",
       "      <td>Sat Jun 06 04:28:13 PDT 2009</td>\n",
       "      <td>NO_QUERY</td>\n",
       "      <td>Sashyyy</td>\n",
       "      <td>i loved all the sun and all but have to say i ...</td>\n",
       "    </tr>\n",
       "    <tr>\n",
       "      <th>1098267</th>\n",
       "      <td>4</td>\n",
       "      <td>1970467999</td>\n",
       "      <td>Sat May 30 03:59:33 PDT 2009</td>\n",
       "      <td>NO_QUERY</td>\n",
       "      <td>jkiner13</td>\n",
       "      <td>@dreamduke That's the earliest we could get a ...</td>\n",
       "    </tr>\n",
       "    <tr>\n",
       "      <th>1570405</th>\n",
       "      <td>4</td>\n",
       "      <td>2188580814</td>\n",
       "      <td>Mon Jun 15 22:09:43 PDT 2009</td>\n",
       "      <td>NO_QUERY</td>\n",
       "      <td>WendyParson</td>\n",
       "      <td>@aplusk apparently they did... Be that as it m...</td>\n",
       "    </tr>\n",
       "    <tr>\n",
       "      <th>1434007</th>\n",
       "      <td>4</td>\n",
       "      <td>2060547230</td>\n",
       "      <td>Sat Jun 06 19:06:34 PDT 2009</td>\n",
       "      <td>NO_QUERY</td>\n",
       "      <td>XxNafishyXx</td>\n",
       "      <td>@heyheyjenaynay Yeeep  *burps* lol.</td>\n",
       "    </tr>\n",
       "    <tr>\n",
       "      <th>586897</th>\n",
       "      <td>0</td>\n",
       "      <td>2216120133</td>\n",
       "      <td>Wed Jun 17 19:03:54 PDT 2009</td>\n",
       "      <td>NO_QUERY</td>\n",
       "      <td>jasminedesiree</td>\n",
       "      <td>@lindseylowkey I think I tried to text you las...</td>\n",
       "    </tr>\n",
       "    <tr>\n",
       "      <th>304028</th>\n",
       "      <td>0</td>\n",
       "      <td>1999628775</td>\n",
       "      <td>Mon Jun 01 20:32:54 PDT 2009</td>\n",
       "      <td>NO_QUERY</td>\n",
       "      <td>woahitssarah</td>\n",
       "      <td>@MaryATLFF5 i know, it still makes me sad.</td>\n",
       "    </tr>\n",
       "    <tr>\n",
       "      <th>30453</th>\n",
       "      <td>0</td>\n",
       "      <td>1563769816</td>\n",
       "      <td>Mon Apr 20 00:11:14 PDT 2009</td>\n",
       "      <td>NO_QUERY</td>\n",
       "      <td>superbeep</td>\n",
       "      <td>ah okay i didn't see that jacob. it's been 2 w...</td>\n",
       "    </tr>\n",
       "    <tr>\n",
       "      <th>845483</th>\n",
       "      <td>4</td>\n",
       "      <td>1564234141</td>\n",
       "      <td>Mon Apr 20 02:28:02 PDT 2009</td>\n",
       "      <td>NO_QUERY</td>\n",
       "      <td>Sheamus</td>\n",
       "      <td>@NGowers I'm here.  Although I assume you were...</td>\n",
       "    </tr>\n",
       "    <tr>\n",
       "      <th>396017</th>\n",
       "      <td>0</td>\n",
       "      <td>2056253100</td>\n",
       "      <td>Sat Jun 06 10:48:24 PDT 2009</td>\n",
       "      <td>NO_QUERY</td>\n",
       "      <td>Rockin_Fluffy</td>\n",
       "      <td>Hungry. Bread won't be done til after I am gon...</td>\n",
       "    </tr>\n",
       "    <tr>\n",
       "      <th>223683</th>\n",
       "      <td>0</td>\n",
       "      <td>1977256153</td>\n",
       "      <td>Sat May 30 20:30:33 PDT 2009</td>\n",
       "      <td>NO_QUERY</td>\n",
       "      <td>shelbie007</td>\n",
       "      <td>Do vampires have bodily fluids? OOO Ill google...</td>\n",
       "    </tr>\n",
       "  </tbody>\n",
       "</table>\n",
       "</div>"
      ],
      "text/plain": [
       "         target   unique_id                          date      flag  \\\n",
       "1392430       4  2053413883  Sat Jun 06 04:28:13 PDT 2009  NO_QUERY   \n",
       "1098267       4  1970467999  Sat May 30 03:59:33 PDT 2009  NO_QUERY   \n",
       "1570405       4  2188580814  Mon Jun 15 22:09:43 PDT 2009  NO_QUERY   \n",
       "1434007       4  2060547230  Sat Jun 06 19:06:34 PDT 2009  NO_QUERY   \n",
       "586897        0  2216120133  Wed Jun 17 19:03:54 PDT 2009  NO_QUERY   \n",
       "304028        0  1999628775  Mon Jun 01 20:32:54 PDT 2009  NO_QUERY   \n",
       "30453         0  1563769816  Mon Apr 20 00:11:14 PDT 2009  NO_QUERY   \n",
       "845483        4  1564234141  Mon Apr 20 02:28:02 PDT 2009  NO_QUERY   \n",
       "396017        0  2056253100  Sat Jun 06 10:48:24 PDT 2009  NO_QUERY   \n",
       "223683        0  1977256153  Sat May 30 20:30:33 PDT 2009  NO_QUERY   \n",
       "\n",
       "                user_id                                               text  \n",
       "1392430         Sashyyy  i loved all the sun and all but have to say i ...  \n",
       "1098267        jkiner13  @dreamduke That's the earliest we could get a ...  \n",
       "1570405     WendyParson  @aplusk apparently they did... Be that as it m...  \n",
       "1434007     XxNafishyXx                @heyheyjenaynay Yeeep  *burps* lol.  \n",
       "586897   jasminedesiree  @lindseylowkey I think I tried to text you las...  \n",
       "304028     woahitssarah        @MaryATLFF5 i know, it still makes me sad.   \n",
       "30453         superbeep  ah okay i didn't see that jacob. it's been 2 w...  \n",
       "845483          Sheamus  @NGowers I'm here.  Although I assume you were...  \n",
       "396017    Rockin_Fluffy  Hungry. Bread won't be done til after I am gon...  \n",
       "223683       shelbie007  Do vampires have bodily fluids? OOO Ill google...  "
      ]
     },
     "execution_count": 4,
     "metadata": {},
     "output_type": "execute_result"
    }
   ],
   "source": [
    "# df = pd.read_csv(\"training.csv\", encoding=\"ISO-8859-1\")\n",
    "df = pd.read_csv(\"training.csv\", header=None, names=[\"target\", \"unique_id\", \"date\", \"flag\", \"user_id\", \"text\"], encoding=\"ISO-8859-1\")\n",
    "df.sample(10)"
   ]
  },
  {
   "cell_type": "code",
   "execution_count": 5,
   "metadata": {},
   "outputs": [
    {
     "name": "stdout",
     "output_type": "stream",
     "text": [
      "<class 'pandas.core.frame.DataFrame'>\n",
      "RangeIndex: 1600000 entries, 0 to 1599999\n",
      "Data columns (total 6 columns):\n",
      " #   Column     Non-Null Count    Dtype \n",
      "---  ------     --------------    ----- \n",
      " 0   target     1600000 non-null  int64 \n",
      " 1   unique_id  1600000 non-null  int64 \n",
      " 2   date       1600000 non-null  object\n",
      " 3   flag       1600000 non-null  object\n",
      " 4   user_id    1600000 non-null  object\n",
      " 5   text       1600000 non-null  object\n",
      "dtypes: int64(2), object(4)\n",
      "memory usage: 73.2+ MB\n"
     ]
    }
   ],
   "source": [
    "df.info()"
   ]
  },
  {
   "cell_type": "code",
   "execution_count": 6,
   "metadata": {},
   "outputs": [
    {
     "data": {
      "text/plain": [
       "(1600000, 6)"
      ]
     },
     "execution_count": 6,
     "metadata": {},
     "output_type": "execute_result"
    }
   ],
   "source": [
    "df.shape"
   ]
  },
  {
   "cell_type": "code",
   "execution_count": 7,
   "metadata": {},
   "outputs": [],
   "source": [
    "df.drop(['unique_id','date','flag','user_id'], axis = 1, inplace = True) "
   ]
  },
  {
   "cell_type": "code",
   "execution_count": 8,
   "metadata": {},
   "outputs": [
    {
     "name": "stdout",
     "output_type": "stream",
     "text": [
      "<class 'pandas.core.frame.DataFrame'>\n",
      "RangeIndex: 1600000 entries, 0 to 1599999\n",
      "Data columns (total 2 columns):\n",
      " #   Column  Non-Null Count    Dtype \n",
      "---  ------  --------------    ----- \n",
      " 0   target  1600000 non-null  int64 \n",
      " 1   text    1600000 non-null  object\n",
      "dtypes: int64(1), object(1)\n",
      "memory usage: 24.4+ MB\n"
     ]
    }
   ],
   "source": [
    "df.info()"
   ]
  },
  {
   "cell_type": "code",
   "execution_count": 9,
   "metadata": {},
   "outputs": [
    {
     "data": {
      "text/html": [
       "<div>\n",
       "<style scoped>\n",
       "    .dataframe tbody tr th:only-of-type {\n",
       "        vertical-align: middle;\n",
       "    }\n",
       "\n",
       "    .dataframe tbody tr th {\n",
       "        vertical-align: top;\n",
       "    }\n",
       "\n",
       "    .dataframe thead th {\n",
       "        text-align: right;\n",
       "    }\n",
       "</style>\n",
       "<table border=\"1\" class=\"dataframe\">\n",
       "  <thead>\n",
       "    <tr style=\"text-align: right;\">\n",
       "      <th></th>\n",
       "      <th>target</th>\n",
       "      <th>text</th>\n",
       "    </tr>\n",
       "  </thead>\n",
       "  <tbody>\n",
       "    <tr>\n",
       "      <th>581561</th>\n",
       "      <td>0</td>\n",
       "      <td>wats the scandal with @peterfacinelli ?? why t...</td>\n",
       "    </tr>\n",
       "    <tr>\n",
       "      <th>1457245</th>\n",
       "      <td>4</td>\n",
       "      <td>Is @hot_tv a fake account? Not sure  Funny any...</td>\n",
       "    </tr>\n",
       "    <tr>\n",
       "      <th>796506</th>\n",
       "      <td>0</td>\n",
       "      <td>ew. ive gotta go in to work for a little</td>\n",
       "    </tr>\n",
       "    <tr>\n",
       "      <th>1339922</th>\n",
       "      <td>4</td>\n",
       "      <td>@ChuckTVdotnet Happy Birthday Mel! You make ou...</td>\n",
       "    </tr>\n",
       "    <tr>\n",
       "      <th>1279002</th>\n",
       "      <td>4</td>\n",
       "      <td>@dreamdiamond Call it coincidence!</td>\n",
       "    </tr>\n",
       "    <tr>\n",
       "      <th>1487614</th>\n",
       "      <td>4</td>\n",
       "      <td>my tummy hurts</td>\n",
       "    </tr>\n",
       "    <tr>\n",
       "      <th>835435</th>\n",
       "      <td>4</td>\n",
       "      <td>@louisamaree lvl 69 night elf feral druid on b...</td>\n",
       "    </tr>\n",
       "    <tr>\n",
       "      <th>676008</th>\n",
       "      <td>0</td>\n",
       "      <td>hoping my snooky's ankle gets to feeling bette...</td>\n",
       "    </tr>\n",
       "    <tr>\n",
       "      <th>1265</th>\n",
       "      <td>0</td>\n",
       "      <td>It's official! I'm going to have an educationa...</td>\n",
       "    </tr>\n",
       "    <tr>\n",
       "      <th>979854</th>\n",
       "      <td>4</td>\n",
       "      <td>@F1sasha charming</td>\n",
       "    </tr>\n",
       "  </tbody>\n",
       "</table>\n",
       "</div>"
      ],
      "text/plain": [
       "         target                                               text\n",
       "581561        0  wats the scandal with @peterfacinelli ?? why t...\n",
       "1457245       4  Is @hot_tv a fake account? Not sure  Funny any...\n",
       "796506        0          ew. ive gotta go in to work for a little \n",
       "1339922       4  @ChuckTVdotnet Happy Birthday Mel! You make ou...\n",
       "1279002       4                @dreamdiamond Call it coincidence! \n",
       "1487614       4                                    my tummy hurts \n",
       "835435        4  @louisamaree lvl 69 night elf feral druid on b...\n",
       "676008        0  hoping my snooky's ankle gets to feeling bette...\n",
       "1265          0  It's official! I'm going to have an educationa...\n",
       "979854        4                                 @F1sasha charming "
      ]
     },
     "execution_count": 9,
     "metadata": {},
     "output_type": "execute_result"
    }
   ],
   "source": [
    "df.sample(10)"
   ]
  },
  {
   "cell_type": "code",
   "execution_count": 10,
   "metadata": {},
   "outputs": [],
   "source": [
    "df.rename(columns={'target': 'sentiment', 'text': 'tweet'}, inplace = True)"
   ]
  },
  {
   "cell_type": "code",
   "execution_count": 11,
   "metadata": {},
   "outputs": [
    {
     "data": {
      "text/html": [
       "<div>\n",
       "<style scoped>\n",
       "    .dataframe tbody tr th:only-of-type {\n",
       "        vertical-align: middle;\n",
       "    }\n",
       "\n",
       "    .dataframe tbody tr th {\n",
       "        vertical-align: top;\n",
       "    }\n",
       "\n",
       "    .dataframe thead th {\n",
       "        text-align: right;\n",
       "    }\n",
       "</style>\n",
       "<table border=\"1\" class=\"dataframe\">\n",
       "  <thead>\n",
       "    <tr style=\"text-align: right;\">\n",
       "      <th></th>\n",
       "      <th>sentiment</th>\n",
       "      <th>tweet</th>\n",
       "    </tr>\n",
       "  </thead>\n",
       "  <tbody>\n",
       "    <tr>\n",
       "      <th>490309</th>\n",
       "      <td>0</td>\n",
       "      <td>Doesnt think he loves me the way i do him caus...</td>\n",
       "    </tr>\n",
       "    <tr>\n",
       "      <th>1306950</th>\n",
       "      <td>4</td>\n",
       "      <td>going ot bed; hopefully not waking up early; a...</td>\n",
       "    </tr>\n",
       "    <tr>\n",
       "      <th>1069142</th>\n",
       "      <td>4</td>\n",
       "      <td>@JETHLAM STFU YOU JEALOUS!</td>\n",
       "    </tr>\n",
       "    <tr>\n",
       "      <th>957075</th>\n",
       "      <td>4</td>\n",
       "      <td>going to have lunch!!!</td>\n",
       "    </tr>\n",
       "    <tr>\n",
       "      <th>87565</th>\n",
       "      <td>0</td>\n",
       "      <td>Had a great time at Loris dance! Our road trip...</td>\n",
       "    </tr>\n",
       "    <tr>\n",
       "      <th>1122097</th>\n",
       "      <td>4</td>\n",
       "      <td>@ijive I like that one better  *flashes fangs*</td>\n",
       "    </tr>\n",
       "    <tr>\n",
       "      <th>776226</th>\n",
       "      <td>0</td>\n",
       "      <td>@kcounz lmao, i didnt see the spasms. aww, poo...</td>\n",
       "    </tr>\n",
       "    <tr>\n",
       "      <th>849693</th>\n",
       "      <td>4</td>\n",
       "      <td>And yes, you can partake in treats like that a...</td>\n",
       "    </tr>\n",
       "    <tr>\n",
       "      <th>1514804</th>\n",
       "      <td>4</td>\n",
       "      <td>Suck in the LRC on my own with nothing to do.....</td>\n",
       "    </tr>\n",
       "    <tr>\n",
       "      <th>342031</th>\n",
       "      <td>0</td>\n",
       "      <td>Well a big thanks to everyone #elevensestime f...</td>\n",
       "    </tr>\n",
       "  </tbody>\n",
       "</table>\n",
       "</div>"
      ],
      "text/plain": [
       "         sentiment                                              tweet\n",
       "490309           0  Doesnt think he loves me the way i do him caus...\n",
       "1306950          4  going ot bed; hopefully not waking up early; a...\n",
       "1069142          4                        @JETHLAM STFU YOU JEALOUS! \n",
       "957075           4                            going to have lunch!!! \n",
       "87565            0  Had a great time at Loris dance! Our road trip...\n",
       "1122097          4     @ijive I like that one better  *flashes fangs*\n",
       "776226           0  @kcounz lmao, i didnt see the spasms. aww, poo...\n",
       "849693           4  And yes, you can partake in treats like that a...\n",
       "1514804          4  Suck in the LRC on my own with nothing to do.....\n",
       "342031           0  Well a big thanks to everyone #elevensestime f..."
      ]
     },
     "execution_count": 11,
     "metadata": {},
     "output_type": "execute_result"
    }
   ],
   "source": [
    "df.sample(10)"
   ]
  },
  {
   "cell_type": "code",
   "execution_count": 12,
   "metadata": {},
   "outputs": [
    {
     "data": {
      "text/html": [
       "<div>\n",
       "<style scoped>\n",
       "    .dataframe tbody tr th:only-of-type {\n",
       "        vertical-align: middle;\n",
       "    }\n",
       "\n",
       "    .dataframe tbody tr th {\n",
       "        vertical-align: top;\n",
       "    }\n",
       "\n",
       "    .dataframe thead th {\n",
       "        text-align: right;\n",
       "    }\n",
       "</style>\n",
       "<table border=\"1\" class=\"dataframe\">\n",
       "  <thead>\n",
       "    <tr style=\"text-align: right;\">\n",
       "      <th></th>\n",
       "      <th>sentiment</th>\n",
       "      <th>tweet</th>\n",
       "    </tr>\n",
       "  </thead>\n",
       "  <tbody>\n",
       "    <tr>\n",
       "      <th>952336</th>\n",
       "      <td>4</td>\n",
       "      <td>@drew does it feel real to you?</td>\n",
       "    </tr>\n",
       "    <tr>\n",
       "      <th>938259</th>\n",
       "      <td>4</td>\n",
       "      <td>@lauredhel Yes, add that to your post.  I agre...</td>\n",
       "    </tr>\n",
       "    <tr>\n",
       "      <th>1208692</th>\n",
       "      <td>4</td>\n",
       "      <td>@sandypek sho good..how i wish i can go holida...</td>\n",
       "    </tr>\n",
       "    <tr>\n",
       "      <th>117429</th>\n",
       "      <td>0</td>\n",
       "      <td>Iï¿½m afraid of my english examination on tues...</td>\n",
       "    </tr>\n",
       "    <tr>\n",
       "      <th>903547</th>\n",
       "      <td>4</td>\n",
       "      <td>@BeckyPidz You charmer   Do you like football ...</td>\n",
       "    </tr>\n",
       "    <tr>\n",
       "      <th>1139839</th>\n",
       "      <td>4</td>\n",
       "      <td>I LOVE DEEJAYING... MORE THAN YOU GIRL...   ht...</td>\n",
       "    </tr>\n",
       "    <tr>\n",
       "      <th>1183397</th>\n",
       "      <td>4</td>\n",
       "      <td>@mattymax Nor me either!!! As for the shorts, ...</td>\n",
       "    </tr>\n",
       "    <tr>\n",
       "      <th>1331116</th>\n",
       "      <td>4</td>\n",
       "      <td>@timbuckteeth @NeilAdam http://www.oldneverdie...</td>\n",
       "    </tr>\n",
       "    <tr>\n",
       "      <th>853930</th>\n",
       "      <td>4</td>\n",
       "      <td>@katepickle yeah I definitely wont do the trne...</td>\n",
       "    </tr>\n",
       "    <tr>\n",
       "      <th>823264</th>\n",
       "      <td>4</td>\n",
       "      <td>@souljaboytellem love u soulja boy ..::muah::....</td>\n",
       "    </tr>\n",
       "  </tbody>\n",
       "</table>\n",
       "</div>"
      ],
      "text/plain": [
       "         sentiment                                              tweet\n",
       "952336           4                   @drew does it feel real to you? \n",
       "938259           4  @lauredhel Yes, add that to your post.  I agre...\n",
       "1208692          4  @sandypek sho good..how i wish i can go holida...\n",
       "117429           0  Iï¿½m afraid of my english examination on tues...\n",
       "903547           4  @BeckyPidz You charmer   Do you like football ...\n",
       "1139839          4  I LOVE DEEJAYING... MORE THAN YOU GIRL...   ht...\n",
       "1183397          4  @mattymax Nor me either!!! As for the shorts, ...\n",
       "1331116          4  @timbuckteeth @NeilAdam http://www.oldneverdie...\n",
       "853930           4  @katepickle yeah I definitely wont do the trne...\n",
       "823264           4  @souljaboytellem love u soulja boy ..::muah::...."
      ]
     },
     "execution_count": 12,
     "metadata": {},
     "output_type": "execute_result"
    }
   ],
   "source": [
    "df = df.dropna()\n",
    "df.sample(10)"
   ]
  },
  {
   "cell_type": "code",
   "execution_count": 13,
   "metadata": {},
   "outputs": [
    {
     "name": "stdout",
     "output_type": "stream",
     "text": [
      "<class 'pandas.core.frame.DataFrame'>\n",
      "RangeIndex: 1600000 entries, 0 to 1599999\n",
      "Data columns (total 2 columns):\n",
      " #   Column     Non-Null Count    Dtype \n",
      "---  ------     --------------    ----- \n",
      " 0   sentiment  1600000 non-null  int64 \n",
      " 1   tweet      1600000 non-null  object\n",
      "dtypes: int64(1), object(1)\n",
      "memory usage: 24.4+ MB\n",
      "None\n",
      "The Shape Of The Dataset Is : (1600000, 2)\n"
     ]
    }
   ],
   "source": [
    "print(df.info())\n",
    "print(\"The Shape Of The Dataset Is :\",df.shape)"
   ]
  },
  {
   "cell_type": "code",
   "execution_count": 14,
   "metadata": {},
   "outputs": [],
   "source": [
    "df['sentiment'] = df['sentiment'].replace({0: 'negative', 4: 'positive'})"
   ]
  },
  {
   "cell_type": "code",
   "execution_count": 15,
   "metadata": {},
   "outputs": [
    {
     "data": {
      "text/html": [
       "<div>\n",
       "<style scoped>\n",
       "    .dataframe tbody tr th:only-of-type {\n",
       "        vertical-align: middle;\n",
       "    }\n",
       "\n",
       "    .dataframe tbody tr th {\n",
       "        vertical-align: top;\n",
       "    }\n",
       "\n",
       "    .dataframe thead th {\n",
       "        text-align: right;\n",
       "    }\n",
       "</style>\n",
       "<table border=\"1\" class=\"dataframe\">\n",
       "  <thead>\n",
       "    <tr style=\"text-align: right;\">\n",
       "      <th></th>\n",
       "      <th>sentiment</th>\n",
       "      <th>tweet</th>\n",
       "    </tr>\n",
       "  </thead>\n",
       "  <tbody>\n",
       "    <tr>\n",
       "      <th>313793</th>\n",
       "      <td>negative</td>\n",
       "      <td>Trying to think of a Victoria comic but having...</td>\n",
       "    </tr>\n",
       "    <tr>\n",
       "      <th>858156</th>\n",
       "      <td>positive</td>\n",
       "      <td>@TheRegularGuys is today a Tuna Tuesday?</td>\n",
       "    </tr>\n",
       "    <tr>\n",
       "      <th>542166</th>\n",
       "      <td>negative</td>\n",
       "      <td>@garpods22 it was a rain delay! sooo bummed!!!</td>\n",
       "    </tr>\n",
       "    <tr>\n",
       "      <th>885318</th>\n",
       "      <td>positive</td>\n",
       "      <td>@upandatthem You don't have to like everything...</td>\n",
       "    </tr>\n",
       "    <tr>\n",
       "      <th>1029756</th>\n",
       "      <td>positive</td>\n",
       "      <td>@deathnote888: Haha. Malay ko ba. Year of the ...</td>\n",
       "    </tr>\n",
       "  </tbody>\n",
       "</table>\n",
       "</div>"
      ],
      "text/plain": [
       "        sentiment                                              tweet\n",
       "313793   negative  Trying to think of a Victoria comic but having...\n",
       "858156   positive         @TheRegularGuys is today a Tuna Tuesday?  \n",
       "542166   negative    @garpods22 it was a rain delay! sooo bummed!!! \n",
       "885318   positive  @upandatthem You don't have to like everything...\n",
       "1029756  positive  @deathnote888: Haha. Malay ko ba. Year of the ..."
      ]
     },
     "execution_count": 15,
     "metadata": {},
     "output_type": "execute_result"
    }
   ],
   "source": [
    "df.sample(5)"
   ]
  },
  {
   "cell_type": "code",
   "execution_count": 16,
   "metadata": {},
   "outputs": [],
   "source": [
    "# Remove URLs, special characters, punctuation, and numbers from tweet column\n",
    "df['tweet'] = df['tweet'].apply(lambda x: re.sub(r'http\\S+', '', x))\n",
    "df['tweet'] = df['tweet'].apply(lambda x: re.sub('[^a-zA-Z\\s]', '', x))\n",
    "df['tweet'] = df['tweet'].apply(lambda x: re.sub('[0-9]+', '', x))\n"
   ]
  },
  {
   "cell_type": "code",
   "execution_count": 17,
   "metadata": {},
   "outputs": [
    {
     "name": "stdout",
     "output_type": "stream",
     "text": [
      "        sentiment                                              tweet\n",
      "573180   negative  HiMAs event tonight is booked Way to go HiMA a...\n",
      "1096568  positive  disgraceUK Ask her if you can wear your mankin...\n",
      "1286970  positive  Touristic Potpourri Barcelona came in today Lo...\n",
      "1143497  positive  OK going to bed for real now  If I win anythin...\n",
      "318310   negative  SECURITYJ I have a feeling that will be the ca...\n",
      "719949   negative  rqhart daweathaman Yeah its just on the wrong ...\n",
      "1246844  positive  Hulu youre my hero today Needed a distraction ...\n",
      "982077   positive  bluecatonline Is that your musicmonday recomme...\n",
      "195232   negative  aMeDiNo   You know I dont like that one  lets ...\n",
      "1202405  positive  AC  this weekend was a blast I went to atlanti...\n",
      "\u001b[1mThe information of the dataset is :\u001b[0m\n",
      "<class 'pandas.core.frame.DataFrame'>\n",
      "RangeIndex: 1600000 entries, 0 to 1599999\n",
      "Data columns (total 2 columns):\n",
      " #   Column     Non-Null Count    Dtype \n",
      "---  ------     --------------    ----- \n",
      " 0   sentiment  1600000 non-null  object\n",
      " 1   tweet      1600000 non-null  object\n",
      "dtypes: object(2)\n",
      "memory usage: 24.4+ MB\n",
      "None\n",
      "\u001b[1mThe Shape Of The Dataset Is :\u001b[0m (1600000, 2)\n"
     ]
    }
   ],
   "source": [
    "print(df.sample(10))\n",
    "print('\\033[1m' + 'The information of the dataset is :' + '\\033[0m')\n",
    "print(df.info())\n",
    "print('\\033[1m' + 'The Shape Of The Dataset Is :' + '\\033[0m',df.shape)"
   ]
  },
  {
   "cell_type": "code",
   "execution_count": 18,
   "metadata": {},
   "outputs": [],
   "source": [
    "\n",
    "df['tweet'] = df['tweet'].str.lower()"
   ]
  },
  {
   "cell_type": "code",
   "execution_count": 19,
   "metadata": {},
   "outputs": [
    {
     "ename": "NameError",
     "evalue": "name 'stopwords' is not defined",
     "output_type": "error",
     "traceback": [
      "\u001b[0;31m---------------------------------------------------------------------------\u001b[0m",
      "\u001b[0;31mNameError\u001b[0m                                 Traceback (most recent call last)",
      "Cell \u001b[0;32mIn[19], line 1\u001b[0m\n\u001b[0;32m----> 1\u001b[0m stop_words \u001b[39m=\u001b[39m \u001b[39mset\u001b[39m(stopwords\u001b[39m.\u001b[39mwords(\u001b[39m'\u001b[39m\u001b[39menglish\u001b[39m\u001b[39m'\u001b[39m))\n\u001b[1;32m      2\u001b[0m df[\u001b[39m'\u001b[39m\u001b[39mtweet\u001b[39m\u001b[39m'\u001b[39m] \u001b[39m=\u001b[39m df[\u001b[39m'\u001b[39m\u001b[39mtweet\u001b[39m\u001b[39m'\u001b[39m]\u001b[39m.\u001b[39mapply(\u001b[39mlambda\u001b[39;00m x: \u001b[39m'\u001b[39m\u001b[39m \u001b[39m\u001b[39m'\u001b[39m\u001b[39m.\u001b[39mjoin(word \u001b[39mfor\u001b[39;00m word \u001b[39min\u001b[39;00m x\u001b[39m.\u001b[39msplit() \u001b[39mif\u001b[39;00m word \u001b[39mnot\u001b[39;00m \u001b[39min\u001b[39;00m stop_words))\n",
      "\u001b[0;31mNameError\u001b[0m: name 'stopwords' is not defined"
     ]
    }
   ],
   "source": [
    "stop_words = set(stopwords.words('english'))\n",
    "df['tweet'] = df['tweet'].apply(lambda x: ' '.join(word for word in x.split() if word not in stop_words))\n"
   ]
  }
 ],
 "metadata": {
  "kernelspec": {
   "display_name": "env",
   "language": "python",
   "name": "python3"
  },
  "language_info": {
   "codemirror_mode": {
    "name": "ipython",
    "version": 3
   },
   "file_extension": ".py",
   "mimetype": "text/x-python",
   "name": "python",
   "nbconvert_exporter": "python",
   "pygments_lexer": "ipython3",
   "version": "3.10.6"
  },
  "orig_nbformat": 4
 },
 "nbformat": 4,
 "nbformat_minor": 2
}
