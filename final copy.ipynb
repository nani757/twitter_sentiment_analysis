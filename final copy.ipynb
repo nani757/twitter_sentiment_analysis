{
 "cells": [
  {
   "cell_type": "code",
   "execution_count": 1,
   "metadata": {},
   "outputs": [],
   "source": [
    "import pandas as pd\n",
    "import numpy as np\n",
    "import nltk\n",
    "import re"
   ]
  },
  {
   "cell_type": "code",
   "execution_count": 2,
   "metadata": {},
   "outputs": [
    {
     "data": {
      "text/plain": [
       "'3.8.1'"
      ]
     },
     "execution_count": 2,
     "metadata": {},
     "output_type": "execute_result"
    }
   ],
   "source": [
    "import nltk\n",
    "nltk.__version__\n",
    "\n"
   ]
  },
  {
   "cell_type": "code",
   "execution_count": 3,
   "metadata": {},
   "outputs": [
    {
     "name": "stderr",
     "output_type": "stream",
     "text": [
      "[nltk_data] Error loading stopwords: <urlopen error [Errno 104]\n",
      "[nltk_data]     Connection reset by peer>\n"
     ]
    },
    {
     "data": {
      "text/plain": [
       "False"
      ]
     },
     "execution_count": 3,
     "metadata": {},
     "output_type": "execute_result"
    }
   ],
   "source": [
    "nltk.download('stopwords')"
   ]
  },
  {
   "cell_type": "code",
   "execution_count": 4,
   "metadata": {},
   "outputs": [
    {
     "data": {
      "text/html": [
       "<div>\n",
       "<style scoped>\n",
       "    .dataframe tbody tr th:only-of-type {\n",
       "        vertical-align: middle;\n",
       "    }\n",
       "\n",
       "    .dataframe tbody tr th {\n",
       "        vertical-align: top;\n",
       "    }\n",
       "\n",
       "    .dataframe thead th {\n",
       "        text-align: right;\n",
       "    }\n",
       "</style>\n",
       "<table border=\"1\" class=\"dataframe\">\n",
       "  <thead>\n",
       "    <tr style=\"text-align: right;\">\n",
       "      <th></th>\n",
       "      <th>target</th>\n",
       "      <th>unique_id</th>\n",
       "      <th>date</th>\n",
       "      <th>flag</th>\n",
       "      <th>user_id</th>\n",
       "      <th>text</th>\n",
       "    </tr>\n",
       "  </thead>\n",
       "  <tbody>\n",
       "    <tr>\n",
       "      <th>1117323</th>\n",
       "      <td>4</td>\n",
       "      <td>1973400238</td>\n",
       "      <td>Sat May 30 11:04:29 PDT 2009</td>\n",
       "      <td>NO_QUERY</td>\n",
       "      <td>rdy2freefall</td>\n",
       "      <td>@theresanoelle hahaha yup you fail three days ...</td>\n",
       "    </tr>\n",
       "    <tr>\n",
       "      <th>112553</th>\n",
       "      <td>0</td>\n",
       "      <td>1825485684</td>\n",
       "      <td>Sun May 17 05:52:12 PDT 2009</td>\n",
       "      <td>NO_QUERY</td>\n",
       "      <td>Jonloge</td>\n",
       "      <td>My mom DOES NOT know how to walk in the city! ...</td>\n",
       "    </tr>\n",
       "    <tr>\n",
       "      <th>710483</th>\n",
       "      <td>0</td>\n",
       "      <td>2257923540</td>\n",
       "      <td>Sat Jun 20 15:06:37 PDT 2009</td>\n",
       "      <td>NO_QUERY</td>\n",
       "      <td>shariselw</td>\n",
       "      <td>im tired of these hussie (@BscoTT26, @LuvNless...</td>\n",
       "    </tr>\n",
       "    <tr>\n",
       "      <th>1315995</th>\n",
       "      <td>4</td>\n",
       "      <td>2014101472</td>\n",
       "      <td>Wed Jun 03 00:27:52 PDT 2009</td>\n",
       "      <td>NO_QUERY</td>\n",
       "      <td>Ginnka</td>\n",
       "      <td>@spoof Ð½Ñ Ð²Ð¾Ñ, ÑÐµÐ¿ÐµÑÑ Ñ? ÑÐ°Ñ?Ñ?Ñ...</td>\n",
       "    </tr>\n",
       "    <tr>\n",
       "      <th>341833</th>\n",
       "      <td>0</td>\n",
       "      <td>2015132761</td>\n",
       "      <td>Wed Jun 03 03:48:08 PDT 2009</td>\n",
       "      <td>NO_QUERY</td>\n",
       "      <td>Lanaaa93</td>\n",
       "      <td>@NicolePaige oooh  it will get better, I will ...</td>\n",
       "    </tr>\n",
       "    <tr>\n",
       "      <th>620181</th>\n",
       "      <td>0</td>\n",
       "      <td>2228243059</td>\n",
       "      <td>Thu Jun 18 14:11:46 PDT 2009</td>\n",
       "      <td>NO_QUERY</td>\n",
       "      <td>allyycase</td>\n",
       "      <td>Mah face is sunburnt. Brings out my freckles  ...</td>\n",
       "    </tr>\n",
       "    <tr>\n",
       "      <th>829271</th>\n",
       "      <td>4</td>\n",
       "      <td>1557149183</td>\n",
       "      <td>Sun Apr 19 02:17:46 PDT 2009</td>\n",
       "      <td>NO_QUERY</td>\n",
       "      <td>i_am_fabs</td>\n",
       "      <td>What Mankind Can Achieve in 40 years, http://d...</td>\n",
       "    </tr>\n",
       "    <tr>\n",
       "      <th>460983</th>\n",
       "      <td>0</td>\n",
       "      <td>2169495080</td>\n",
       "      <td>Sun Jun 14 14:35:51 PDT 2009</td>\n",
       "      <td>NO_QUERY</td>\n",
       "      <td>roxiijonas</td>\n",
       "      <td>At first no one had commented JBs pic i was ne...</td>\n",
       "    </tr>\n",
       "    <tr>\n",
       "      <th>1562263</th>\n",
       "      <td>4</td>\n",
       "      <td>2186788690</td>\n",
       "      <td>Mon Jun 15 19:20:19 PDT 2009</td>\n",
       "      <td>NO_QUERY</td>\n",
       "      <td>ebarlean21</td>\n",
       "      <td>Painting a wall in my apartment #96163 Bavaria...</td>\n",
       "    </tr>\n",
       "    <tr>\n",
       "      <th>1328009</th>\n",
       "      <td>4</td>\n",
       "      <td>2015462774</td>\n",
       "      <td>Wed Jun 03 04:43:49 PDT 2009</td>\n",
       "      <td>NO_QUERY</td>\n",
       "      <td>stockstef</td>\n",
       "      <td>Preparing for my sisters wedding on friday and...</td>\n",
       "    </tr>\n",
       "  </tbody>\n",
       "</table>\n",
       "</div>"
      ],
      "text/plain": [
       "         target   unique_id                          date      flag  \\\n",
       "1117323       4  1973400238  Sat May 30 11:04:29 PDT 2009  NO_QUERY   \n",
       "112553        0  1825485684  Sun May 17 05:52:12 PDT 2009  NO_QUERY   \n",
       "710483        0  2257923540  Sat Jun 20 15:06:37 PDT 2009  NO_QUERY   \n",
       "1315995       4  2014101472  Wed Jun 03 00:27:52 PDT 2009  NO_QUERY   \n",
       "341833        0  2015132761  Wed Jun 03 03:48:08 PDT 2009  NO_QUERY   \n",
       "620181        0  2228243059  Thu Jun 18 14:11:46 PDT 2009  NO_QUERY   \n",
       "829271        4  1557149183  Sun Apr 19 02:17:46 PDT 2009  NO_QUERY   \n",
       "460983        0  2169495080  Sun Jun 14 14:35:51 PDT 2009  NO_QUERY   \n",
       "1562263       4  2186788690  Mon Jun 15 19:20:19 PDT 2009  NO_QUERY   \n",
       "1328009       4  2015462774  Wed Jun 03 04:43:49 PDT 2009  NO_QUERY   \n",
       "\n",
       "              user_id                                               text  \n",
       "1117323  rdy2freefall  @theresanoelle hahaha yup you fail three days ...  \n",
       "112553        Jonloge  My mom DOES NOT know how to walk in the city! ...  \n",
       "710483      shariselw  im tired of these hussie (@BscoTT26, @LuvNless...  \n",
       "1315995        Ginnka  @spoof Ð½Ñ Ð²Ð¾Ñ, ÑÐµÐ¿ÐµÑÑ Ñ? ÑÐ°Ñ?Ñ?Ñ...  \n",
       "341833       Lanaaa93  @NicolePaige oooh  it will get better, I will ...  \n",
       "620181      allyycase  Mah face is sunburnt. Brings out my freckles  ...  \n",
       "829271      i_am_fabs  What Mankind Can Achieve in 40 years, http://d...  \n",
       "460983     roxiijonas  At first no one had commented JBs pic i was ne...  \n",
       "1562263    ebarlean21  Painting a wall in my apartment #96163 Bavaria...  \n",
       "1328009     stockstef  Preparing for my sisters wedding on friday and...  "
      ]
     },
     "execution_count": 4,
     "metadata": {},
     "output_type": "execute_result"
    }
   ],
   "source": [
    "# df = pd.read_csv(\"training.csv\", encoding=\"ISO-8859-1\")\n",
    "df = pd.read_csv(\"training.csv\", header=None, names=[\"target\", \"unique_id\", \"date\", \"flag\", \"user_id\", \"text\"], encoding=\"ISO-8859-1\")\n",
    "df.sample(10)"
   ]
  },
  {
   "cell_type": "code",
   "execution_count": 5,
   "metadata": {},
   "outputs": [
    {
     "name": "stdout",
     "output_type": "stream",
     "text": [
      "<class 'pandas.core.frame.DataFrame'>\n",
      "RangeIndex: 1600000 entries, 0 to 1599999\n",
      "Data columns (total 6 columns):\n",
      " #   Column     Non-Null Count    Dtype \n",
      "---  ------     --------------    ----- \n",
      " 0   target     1600000 non-null  int64 \n",
      " 1   unique_id  1600000 non-null  int64 \n",
      " 2   date       1600000 non-null  object\n",
      " 3   flag       1600000 non-null  object\n",
      " 4   user_id    1600000 non-null  object\n",
      " 5   text       1600000 non-null  object\n",
      "dtypes: int64(2), object(4)\n",
      "memory usage: 73.2+ MB\n"
     ]
    }
   ],
   "source": [
    "df.info()"
   ]
  },
  {
   "cell_type": "code",
   "execution_count": 6,
   "metadata": {},
   "outputs": [
    {
     "data": {
      "text/plain": [
       "(1600000, 6)"
      ]
     },
     "execution_count": 6,
     "metadata": {},
     "output_type": "execute_result"
    }
   ],
   "source": [
    "df.shape"
   ]
  },
  {
   "cell_type": "code",
   "execution_count": 7,
   "metadata": {},
   "outputs": [],
   "source": [
    "df.drop(['unique_id','date','flag','user_id'], axis = 1, inplace = True) "
   ]
  },
  {
   "cell_type": "code",
   "execution_count": 8,
   "metadata": {},
   "outputs": [
    {
     "name": "stdout",
     "output_type": "stream",
     "text": [
      "<class 'pandas.core.frame.DataFrame'>\n",
      "RangeIndex: 1600000 entries, 0 to 1599999\n",
      "Data columns (total 2 columns):\n",
      " #   Column  Non-Null Count    Dtype \n",
      "---  ------  --------------    ----- \n",
      " 0   target  1600000 non-null  int64 \n",
      " 1   text    1600000 non-null  object\n",
      "dtypes: int64(1), object(1)\n",
      "memory usage: 24.4+ MB\n"
     ]
    }
   ],
   "source": [
    "df.info()"
   ]
  },
  {
   "cell_type": "code",
   "execution_count": 9,
   "metadata": {},
   "outputs": [
    {
     "data": {
      "text/html": [
       "<div>\n",
       "<style scoped>\n",
       "    .dataframe tbody tr th:only-of-type {\n",
       "        vertical-align: middle;\n",
       "    }\n",
       "\n",
       "    .dataframe tbody tr th {\n",
       "        vertical-align: top;\n",
       "    }\n",
       "\n",
       "    .dataframe thead th {\n",
       "        text-align: right;\n",
       "    }\n",
       "</style>\n",
       "<table border=\"1\" class=\"dataframe\">\n",
       "  <thead>\n",
       "    <tr style=\"text-align: right;\">\n",
       "      <th></th>\n",
       "      <th>target</th>\n",
       "      <th>text</th>\n",
       "    </tr>\n",
       "  </thead>\n",
       "  <tbody>\n",
       "    <tr>\n",
       "      <th>480178</th>\n",
       "      <td>0</td>\n",
       "      <td>didn't they say they'd edit it!!!!</td>\n",
       "    </tr>\n",
       "    <tr>\n",
       "      <th>154939</th>\n",
       "      <td>0</td>\n",
       "      <td>am going to school: hate it</td>\n",
       "    </tr>\n",
       "    <tr>\n",
       "      <th>1416978</th>\n",
       "      <td>4</td>\n",
       "      <td>Wanting to see baby Alysia.  she brightens up ...</td>\n",
       "    </tr>\n",
       "    <tr>\n",
       "      <th>1478473</th>\n",
       "      <td>4</td>\n",
       "      <td>@silverraindog Guess thats what cousins are! T...</td>\n",
       "    </tr>\n",
       "    <tr>\n",
       "      <th>964052</th>\n",
       "      <td>4</td>\n",
       "      <td>@cindygarman I think it works the other way ar...</td>\n",
       "    </tr>\n",
       "    <tr>\n",
       "      <th>636332</th>\n",
       "      <td>0</td>\n",
       "      <td>@mokudekiru Yay! Also, I tried to text you, bu...</td>\n",
       "    </tr>\n",
       "    <tr>\n",
       "      <th>1067822</th>\n",
       "      <td>4</td>\n",
       "      <td>@mitchelmusso Im waiting on you to answer :'[ ...</td>\n",
       "    </tr>\n",
       "    <tr>\n",
       "      <th>303340</th>\n",
       "      <td>0</td>\n",
       "      <td>@Andiie15 always the same who as all the thing...</td>\n",
       "    </tr>\n",
       "    <tr>\n",
       "      <th>962739</th>\n",
       "      <td>4</td>\n",
       "      <td>@KY502NTX @Astro_Mike is currently spacewalkin...</td>\n",
       "    </tr>\n",
       "    <tr>\n",
       "      <th>1591434</th>\n",
       "      <td>4</td>\n",
       "      <td>@lightscameraash GOOD LUCK.</td>\n",
       "    </tr>\n",
       "  </tbody>\n",
       "</table>\n",
       "</div>"
      ],
      "text/plain": [
       "         target                                               text\n",
       "480178        0                didn't they say they'd edit it!!!! \n",
       "154939        0                       am going to school: hate it \n",
       "1416978       4  Wanting to see baby Alysia.  she brightens up ...\n",
       "1478473       4  @silverraindog Guess thats what cousins are! T...\n",
       "964052        4  @cindygarman I think it works the other way ar...\n",
       "636332        0  @mokudekiru Yay! Also, I tried to text you, bu...\n",
       "1067822       4  @mitchelmusso Im waiting on you to answer :'[ ...\n",
       "303340        0  @Andiie15 always the same who as all the thing...\n",
       "962739        4  @KY502NTX @Astro_Mike is currently spacewalkin...\n",
       "1591434       4                       @lightscameraash GOOD LUCK. "
      ]
     },
     "execution_count": 9,
     "metadata": {},
     "output_type": "execute_result"
    }
   ],
   "source": [
    "df.sample(10)"
   ]
  },
  {
   "cell_type": "code",
   "execution_count": 10,
   "metadata": {},
   "outputs": [],
   "source": [
    "df.rename(columns={'target': 'sentiment', 'text': 'tweet'}, inplace = True)"
   ]
  },
  {
   "cell_type": "code",
   "execution_count": 11,
   "metadata": {},
   "outputs": [
    {
     "data": {
      "text/html": [
       "<div>\n",
       "<style scoped>\n",
       "    .dataframe tbody tr th:only-of-type {\n",
       "        vertical-align: middle;\n",
       "    }\n",
       "\n",
       "    .dataframe tbody tr th {\n",
       "        vertical-align: top;\n",
       "    }\n",
       "\n",
       "    .dataframe thead th {\n",
       "        text-align: right;\n",
       "    }\n",
       "</style>\n",
       "<table border=\"1\" class=\"dataframe\">\n",
       "  <thead>\n",
       "    <tr style=\"text-align: right;\">\n",
       "      <th></th>\n",
       "      <th>sentiment</th>\n",
       "      <th>tweet</th>\n",
       "    </tr>\n",
       "  </thead>\n",
       "  <tbody>\n",
       "    <tr>\n",
       "      <th>683807</th>\n",
       "      <td>0</td>\n",
       "      <td>Too much drinking makes my mouth num  I'm num....</td>\n",
       "    </tr>\n",
       "    <tr>\n",
       "      <th>909282</th>\n",
       "      <td>4</td>\n",
       "      <td>Happy Mother's Day! She liked the poem.</td>\n",
       "    </tr>\n",
       "    <tr>\n",
       "      <th>824295</th>\n",
       "      <td>4</td>\n",
       "      <td>@FADIAKADER I'm here for a MIN! This friday is...</td>\n",
       "    </tr>\n",
       "    <tr>\n",
       "      <th>1197456</th>\n",
       "      <td>4</td>\n",
       "      <td>@socrazygirl_ it's perfectly fine as long as y...</td>\n",
       "    </tr>\n",
       "    <tr>\n",
       "      <th>1097330</th>\n",
       "      <td>4</td>\n",
       "      <td>@CarbonoxRatchet you probably typed a word tha...</td>\n",
       "    </tr>\n",
       "    <tr>\n",
       "      <th>89525</th>\n",
       "      <td>0</td>\n",
       "      <td>I feel like the worst daughter ever. I didn't ...</td>\n",
       "    </tr>\n",
       "    <tr>\n",
       "      <th>968587</th>\n",
       "      <td>4</td>\n",
       "      <td>Just finished one of Sunday afternoon's most c...</td>\n",
       "    </tr>\n",
       "    <tr>\n",
       "      <th>1537180</th>\n",
       "      <td>4</td>\n",
       "      <td>@trainbetter: how are you studying for the csc...</td>\n",
       "    </tr>\n",
       "    <tr>\n",
       "      <th>1422548</th>\n",
       "      <td>4</td>\n",
       "      <td>D-Day Jay-Z Palm Pre Tetris Belmont Stakes Lau...</td>\n",
       "    </tr>\n",
       "    <tr>\n",
       "      <th>134171</th>\n",
       "      <td>0</td>\n",
       "      <td>@Icy1_Female Tell me about - I swear I'm still...</td>\n",
       "    </tr>\n",
       "  </tbody>\n",
       "</table>\n",
       "</div>"
      ],
      "text/plain": [
       "         sentiment                                              tweet\n",
       "683807           0  Too much drinking makes my mouth num  I'm num....\n",
       "909282           4           Happy Mother's Day! She liked the poem. \n",
       "824295           4  @FADIAKADER I'm here for a MIN! This friday is...\n",
       "1197456          4  @socrazygirl_ it's perfectly fine as long as y...\n",
       "1097330          4  @CarbonoxRatchet you probably typed a word tha...\n",
       "89525            0  I feel like the worst daughter ever. I didn't ...\n",
       "968587           4  Just finished one of Sunday afternoon's most c...\n",
       "1537180          4  @trainbetter: how are you studying for the csc...\n",
       "1422548          4  D-Day Jay-Z Palm Pre Tetris Belmont Stakes Lau...\n",
       "134171           0  @Icy1_Female Tell me about - I swear I'm still..."
      ]
     },
     "execution_count": 11,
     "metadata": {},
     "output_type": "execute_result"
    }
   ],
   "source": [
    "df.sample(10)"
   ]
  },
  {
   "cell_type": "code",
   "execution_count": 12,
   "metadata": {},
   "outputs": [
    {
     "data": {
      "text/html": [
       "<div>\n",
       "<style scoped>\n",
       "    .dataframe tbody tr th:only-of-type {\n",
       "        vertical-align: middle;\n",
       "    }\n",
       "\n",
       "    .dataframe tbody tr th {\n",
       "        vertical-align: top;\n",
       "    }\n",
       "\n",
       "    .dataframe thead th {\n",
       "        text-align: right;\n",
       "    }\n",
       "</style>\n",
       "<table border=\"1\" class=\"dataframe\">\n",
       "  <thead>\n",
       "    <tr style=\"text-align: right;\">\n",
       "      <th></th>\n",
       "      <th>sentiment</th>\n",
       "      <th>tweet</th>\n",
       "    </tr>\n",
       "  </thead>\n",
       "  <tbody>\n",
       "    <tr>\n",
       "      <th>1350935</th>\n",
       "      <td>4</td>\n",
       "      <td>fallin asleep at the computer....come on ben l...</td>\n",
       "    </tr>\n",
       "    <tr>\n",
       "      <th>412956</th>\n",
       "      <td>0</td>\n",
       "      <td>just figured out that I have not been receivin...</td>\n",
       "    </tr>\n",
       "    <tr>\n",
       "      <th>1487937</th>\n",
       "      <td>4</td>\n",
       "      <td>i love you much its crazy</td>\n",
       "    </tr>\n",
       "    <tr>\n",
       "      <th>1223182</th>\n",
       "      <td>4</td>\n",
       "      <td>im following 666 people thet explein's alot a ...</td>\n",
       "    </tr>\n",
       "    <tr>\n",
       "      <th>175097</th>\n",
       "      <td>0</td>\n",
       "      <td>i donbt like to peel prawns, i also dont like ...</td>\n",
       "    </tr>\n",
       "    <tr>\n",
       "      <th>137007</th>\n",
       "      <td>0</td>\n",
       "      <td>working on product catalogue.. the program sud...</td>\n",
       "    </tr>\n",
       "    <tr>\n",
       "      <th>599388</th>\n",
       "      <td>0</td>\n",
       "      <td>Been staying back in the office for the longes...</td>\n",
       "    </tr>\n",
       "    <tr>\n",
       "      <th>1019577</th>\n",
       "      <td>4</td>\n",
       "      <td>I need a good day sailing. Thank lord its frid...</td>\n",
       "    </tr>\n",
       "    <tr>\n",
       "      <th>757605</th>\n",
       "      <td>0</td>\n",
       "      <td>The passenger was one of my Bounty friends.  T...</td>\n",
       "    </tr>\n",
       "    <tr>\n",
       "      <th>333601</th>\n",
       "      <td>0</td>\n",
       "      <td>Sounds like Air France disaster is as bad as t...</td>\n",
       "    </tr>\n",
       "  </tbody>\n",
       "</table>\n",
       "</div>"
      ],
      "text/plain": [
       "         sentiment                                              tweet\n",
       "1350935          4  fallin asleep at the computer....come on ben l...\n",
       "412956           0  just figured out that I have not been receivin...\n",
       "1487937          4                         i love you much its crazy \n",
       "1223182          4  im following 666 people thet explein's alot a ...\n",
       "175097           0  i donbt like to peel prawns, i also dont like ...\n",
       "137007           0  working on product catalogue.. the program sud...\n",
       "599388           0  Been staying back in the office for the longes...\n",
       "1019577          4  I need a good day sailing. Thank lord its frid...\n",
       "757605           0  The passenger was one of my Bounty friends.  T...\n",
       "333601           0  Sounds like Air France disaster is as bad as t..."
      ]
     },
     "execution_count": 12,
     "metadata": {},
     "output_type": "execute_result"
    }
   ],
   "source": [
    "df = df.dropna()\n",
    "df.sample(10)"
   ]
  },
  {
   "cell_type": "code",
   "execution_count": 13,
   "metadata": {},
   "outputs": [
    {
     "name": "stdout",
     "output_type": "stream",
     "text": [
      "<class 'pandas.core.frame.DataFrame'>\n",
      "RangeIndex: 1600000 entries, 0 to 1599999\n",
      "Data columns (total 2 columns):\n",
      " #   Column     Non-Null Count    Dtype \n",
      "---  ------     --------------    ----- \n",
      " 0   sentiment  1600000 non-null  int64 \n",
      " 1   tweet      1600000 non-null  object\n",
      "dtypes: int64(1), object(1)\n",
      "memory usage: 24.4+ MB\n",
      "None\n",
      "The Shape Of The Dataset Is : (1600000, 2)\n"
     ]
    }
   ],
   "source": [
    "print(df.info())\n",
    "print(\"The Shape Of The Dataset Is :\",df.shape)"
   ]
  },
  {
   "cell_type": "code",
   "execution_count": 14,
   "metadata": {},
   "outputs": [],
   "source": [
    "df['sentiment'] = df['sentiment'].replace({0: 'negative', 4: 'positive'})"
   ]
  },
  {
   "cell_type": "code",
   "execution_count": 15,
   "metadata": {},
   "outputs": [
    {
     "data": {
      "text/html": [
       "<div>\n",
       "<style scoped>\n",
       "    .dataframe tbody tr th:only-of-type {\n",
       "        vertical-align: middle;\n",
       "    }\n",
       "\n",
       "    .dataframe tbody tr th {\n",
       "        vertical-align: top;\n",
       "    }\n",
       "\n",
       "    .dataframe thead th {\n",
       "        text-align: right;\n",
       "    }\n",
       "</style>\n",
       "<table border=\"1\" class=\"dataframe\">\n",
       "  <thead>\n",
       "    <tr style=\"text-align: right;\">\n",
       "      <th></th>\n",
       "      <th>sentiment</th>\n",
       "      <th>tweet</th>\n",
       "    </tr>\n",
       "  </thead>\n",
       "  <tbody>\n",
       "    <tr>\n",
       "      <th>366920</th>\n",
       "      <td>negative</td>\n",
       "      <td>Last day of school!!! I felt so happy, but all...</td>\n",
       "    </tr>\n",
       "    <tr>\n",
       "      <th>1387213</th>\n",
       "      <td>positive</td>\n",
       "      <td>Is about to start some HARDORE revising</td>\n",
       "    </tr>\n",
       "    <tr>\n",
       "      <th>1064636</th>\n",
       "      <td>positive</td>\n",
       "      <td>@katiejoseph1 thanks so much  so i'm thinking ...</td>\n",
       "    </tr>\n",
       "    <tr>\n",
       "      <th>643875</th>\n",
       "      <td>negative</td>\n",
       "      <td>My Router is playing silly buggers with AIM ag...</td>\n",
       "    </tr>\n",
       "    <tr>\n",
       "      <th>486908</th>\n",
       "      <td>negative</td>\n",
       "      <td>@artistikem it was a napoleon dynamite referen...</td>\n",
       "    </tr>\n",
       "  </tbody>\n",
       "</table>\n",
       "</div>"
      ],
      "text/plain": [
       "        sentiment                                              tweet\n",
       "366920   negative  Last day of school!!! I felt so happy, but all...\n",
       "1387213  positive           Is about to start some HARDORE revising \n",
       "1064636  positive  @katiejoseph1 thanks so much  so i'm thinking ...\n",
       "643875   negative  My Router is playing silly buggers with AIM ag...\n",
       "486908   negative  @artistikem it was a napoleon dynamite referen..."
      ]
     },
     "execution_count": 15,
     "metadata": {},
     "output_type": "execute_result"
    }
   ],
   "source": [
    "df.sample(5)"
   ]
  },
  {
   "cell_type": "code",
   "execution_count": 16,
   "metadata": {},
   "outputs": [],
   "source": [
    "# Remove URLs, special characters, punctuation, and numbers from tweet column\n",
    "df['tweet'] = df['tweet'].apply(lambda x: re.sub(r'http\\S+', '', x))\n",
    "df['tweet'] = df['tweet'].apply(lambda x: re.sub('[^a-zA-Z\\s]', '', x))\n",
    "df['tweet'] = df['tweet'].apply(lambda x: re.sub('[0-9]+', '', x))\n"
   ]
  },
  {
   "cell_type": "code",
   "execution_count": 17,
   "metadata": {},
   "outputs": [
    {
     "name": "stdout",
     "output_type": "stream",
     "text": [
      "        sentiment                                              tweet\n",
      "383216   negative  pmam relay for life on a cold nightNOT A GOOD ...\n",
      "1183527  positive  therealsavannah i love it when you do covers o...\n",
      "31160    negative       gfalcone Im not going to the tour at all  xx\n",
      "806464   positive    When Chelsea brings me chocolate and diet co...\n",
      "1476993  positive                            looking forward to tea \n",
      "911793   positive     lolmy neighbors must think im nutsfor canucks \n",
      "1079972  positive  NewRule If you cant spell ityou might not want...\n",
      "1415383  positive  now im really ready to get my day started SHE ...\n",
      "993444   positive  coldplay good night guy all the way from perth...\n",
      "1276324  positive  goodsex is the best way to get you through out...\n",
      "\u001b[1mThe information of the dataset is :\u001b[0m\n",
      "<class 'pandas.core.frame.DataFrame'>\n",
      "RangeIndex: 1600000 entries, 0 to 1599999\n",
      "Data columns (total 2 columns):\n",
      " #   Column     Non-Null Count    Dtype \n",
      "---  ------     --------------    ----- \n",
      " 0   sentiment  1600000 non-null  object\n",
      " 1   tweet      1600000 non-null  object\n",
      "dtypes: object(2)\n",
      "memory usage: 24.4+ MB\n",
      "None\n",
      "\u001b[1mThe Shape Of The Dataset Is :\u001b[0m (1600000, 2)\n"
     ]
    }
   ],
   "source": [
    "print(df.sample(10))\n",
    "print('\\033[1m' + 'The information of the dataset is :' + '\\033[0m')\n",
    "print(df.info())\n",
    "print('\\033[1m' + 'The Shape Of The Dataset Is :' + '\\033[0m',df.shape)"
   ]
  },
  {
   "cell_type": "code",
   "execution_count": 18,
   "metadata": {},
   "outputs": [],
   "source": [
    "\n",
    "df['tweet'] = df['tweet'].str.lower()"
   ]
  },
  {
   "cell_type": "code",
   "execution_count": 19,
   "metadata": {},
   "outputs": [
    {
     "ename": "NameError",
     "evalue": "name 'stopwords' is not defined",
     "output_type": "error",
     "traceback": [
      "\u001b[0;31m---------------------------------------------------------------------------\u001b[0m",
      "\u001b[0;31mNameError\u001b[0m                                 Traceback (most recent call last)",
      "Cell \u001b[0;32mIn[19], line 1\u001b[0m\n\u001b[0;32m----> 1\u001b[0m stop_words \u001b[39m=\u001b[39m \u001b[39mset\u001b[39m(stopwords\u001b[39m.\u001b[39mwords(\u001b[39m'\u001b[39m\u001b[39menglish\u001b[39m\u001b[39m'\u001b[39m))\n\u001b[1;32m      2\u001b[0m df[\u001b[39m'\u001b[39m\u001b[39mtweet\u001b[39m\u001b[39m'\u001b[39m] \u001b[39m=\u001b[39m df[\u001b[39m'\u001b[39m\u001b[39mtweet\u001b[39m\u001b[39m'\u001b[39m]\u001b[39m.\u001b[39mapply(\u001b[39mlambda\u001b[39;00m x: \u001b[39m'\u001b[39m\u001b[39m \u001b[39m\u001b[39m'\u001b[39m\u001b[39m.\u001b[39mjoin(word \u001b[39mfor\u001b[39;00m word \u001b[39min\u001b[39;00m x\u001b[39m.\u001b[39msplit() \u001b[39mif\u001b[39;00m word \u001b[39mnot\u001b[39;00m \u001b[39min\u001b[39;00m stop_words))\n",
      "\u001b[0;31mNameError\u001b[0m: name 'stopwords' is not defined"
     ]
    }
   ],
   "source": [
    "stop_words = set(stopwords.words('english'))\n",
    "df['tweet'] = df['tweet'].apply(lambda x: ' '.join(word for word in x.split() if word not in stop_words))\n"
   ]
  }
 ],
 "metadata": {
  "kernelspec": {
   "display_name": "env",
   "language": "python",
   "name": "python3"
  },
  "language_info": {
   "codemirror_mode": {
    "name": "ipython",
    "version": 3
   },
   "file_extension": ".py",
   "mimetype": "text/x-python",
   "name": "python",
   "nbconvert_exporter": "python",
   "pygments_lexer": "ipython3",
   "version": "3.10.6"
  },
  "orig_nbformat": 4
 },
 "nbformat": 4,
 "nbformat_minor": 2
}
