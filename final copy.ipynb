{
 "cells": [
  {
   "cell_type": "code",
   "execution_count": 1,
   "metadata": {},
   "outputs": [],
   "source": [
    "import pandas as pd\n",
    "import numpy as np\n",
    "import nltk\n",
    "import re"
   ]
  },
  {
   "cell_type": "code",
   "execution_count": 2,
   "metadata": {},
   "outputs": [
    {
     "data": {
      "text/plain": [
       "11"
      ]
     },
     "execution_count": 2,
     "metadata": {},
     "output_type": "execute_result"
    }
   ],
   "source": [
    "5+6"
   ]
  },
  {
   "cell_type": "code",
   "execution_count": 3,
   "metadata": {},
   "outputs": [
    {
     "data": {
      "text/plain": [
       "'3.8.1'"
      ]
     },
     "execution_count": 3,
     "metadata": {},
     "output_type": "execute_result"
    }
   ],
   "source": [
    "import nltk\n",
    "nltk.__version__"
   ]
  },
  {
   "cell_type": "code",
   "execution_count": 4,
   "metadata": {},
   "outputs": [],
   "source": [
    "import pandas as pd\n",
    "import numpy as np\n",
    "import matplotlib.pyplot as plt\n",
    "import seaborn as sns\n",
    "import re\n",
    "import nltk\n",
    "from nltk.corpus import stopwords\n",
    "from nltk.stem import WordNetLemmatizer\n",
    "from sklearn.model_selection import train_test_split\n",
    "from sklearn.feature_extraction.text import CountVectorizer, TfidfVectorizer\n",
    "from sklearn.metrics import classification_report, confusion_matrix, accuracy_score\n",
    "from sklearn.naive_bayes import MultinomialNB\n"
   ]
  },
  {
   "cell_type": "code",
   "execution_count": 5,
   "metadata": {},
   "outputs": [
    {
     "data": {
      "text/html": [
       "<div>\n",
       "<style scoped>\n",
       "    .dataframe tbody tr th:only-of-type {\n",
       "        vertical-align: middle;\n",
       "    }\n",
       "\n",
       "    .dataframe tbody tr th {\n",
       "        vertical-align: top;\n",
       "    }\n",
       "\n",
       "    .dataframe thead th {\n",
       "        text-align: right;\n",
       "    }\n",
       "</style>\n",
       "<table border=\"1\" class=\"dataframe\">\n",
       "  <thead>\n",
       "    <tr style=\"text-align: right;\">\n",
       "      <th></th>\n",
       "      <th>target</th>\n",
       "      <th>unique_id</th>\n",
       "      <th>date</th>\n",
       "      <th>flag</th>\n",
       "      <th>user_id</th>\n",
       "      <th>text</th>\n",
       "    </tr>\n",
       "  </thead>\n",
       "  <tbody>\n",
       "    <tr>\n",
       "      <th>73820</th>\n",
       "      <td>0</td>\n",
       "      <td>1694637805</td>\n",
       "      <td>Mon May 04 03:30:54 PDT 2009</td>\n",
       "      <td>NO_QUERY</td>\n",
       "      <td>clrzqstn</td>\n",
       "      <td>I think, we'll be out of town on the 16th.  Th...</td>\n",
       "    </tr>\n",
       "    <tr>\n",
       "      <th>1441013</th>\n",
       "      <td>4</td>\n",
       "      <td>2061758921</td>\n",
       "      <td>Sat Jun 06 21:33:06 PDT 2009</td>\n",
       "      <td>NO_QUERY</td>\n",
       "      <td>MeganCrossett</td>\n",
       "      <td>HOME!! Thanks @saintsammy and @eliza_electric ...</td>\n",
       "    </tr>\n",
       "    <tr>\n",
       "      <th>259100</th>\n",
       "      <td>0</td>\n",
       "      <td>1985345167</td>\n",
       "      <td>Sun May 31 16:55:36 PDT 2009</td>\n",
       "      <td>NO_QUERY</td>\n",
       "      <td>xolove</td>\n",
       "      <td>I seriously miss @teamjacobsucks so much I mig...</td>\n",
       "    </tr>\n",
       "    <tr>\n",
       "      <th>733352</th>\n",
       "      <td>0</td>\n",
       "      <td>2264292859</td>\n",
       "      <td>Sun Jun 21 03:24:04 PDT 2009</td>\n",
       "      <td>NO_QUERY</td>\n",
       "      <td>cominu</td>\n",
       "      <td>back from Milan...dead tired</td>\n",
       "    </tr>\n",
       "    <tr>\n",
       "      <th>1451370</th>\n",
       "      <td>4</td>\n",
       "      <td>2063034018</td>\n",
       "      <td>Sun Jun 07 01:08:08 PDT 2009</td>\n",
       "      <td>NO_QUERY</td>\n",
       "      <td>licksharder</td>\n",
       "      <td>@NaiveLondonGirl good for you girl! recommend ...</td>\n",
       "    </tr>\n",
       "    <tr>\n",
       "      <th>720149</th>\n",
       "      <td>0</td>\n",
       "      <td>2260806816</td>\n",
       "      <td>Sat Jun 20 19:48:12 PDT 2009</td>\n",
       "      <td>NO_QUERY</td>\n",
       "      <td>MissElyon</td>\n",
       "      <td>@Mcpattz  J.D salinger? awww that suck</td>\n",
       "    </tr>\n",
       "    <tr>\n",
       "      <th>1543919</th>\n",
       "      <td>4</td>\n",
       "      <td>2181546274</td>\n",
       "      <td>Mon Jun 15 11:58:34 PDT 2009</td>\n",
       "      <td>NO_QUERY</td>\n",
       "      <td>karinonoda</td>\n",
       "      <td>aaaand for @jonas brothers for the best album ...</td>\n",
       "    </tr>\n",
       "    <tr>\n",
       "      <th>1428145</th>\n",
       "      <td>4</td>\n",
       "      <td>2059514508</td>\n",
       "      <td>Sat Jun 06 17:05:14 PDT 2009</td>\n",
       "      <td>NO_QUERY</td>\n",
       "      <td>marilynstjulian</td>\n",
       "      <td>Dads in Africa for 2 weeks = boosin', sexin', ...</td>\n",
       "    </tr>\n",
       "    <tr>\n",
       "      <th>353906</th>\n",
       "      <td>0</td>\n",
       "      <td>2033496016</td>\n",
       "      <td>Thu Jun 04 12:47:14 PDT 2009</td>\n",
       "      <td>NO_QUERY</td>\n",
       "      <td>shallowend</td>\n",
       "      <td>Very sneezy today, and my throat just started ...</td>\n",
       "    </tr>\n",
       "    <tr>\n",
       "      <th>743728</th>\n",
       "      <td>0</td>\n",
       "      <td>2266930834</td>\n",
       "      <td>Sun Jun 21 09:20:22 PDT 2009</td>\n",
       "      <td>NO_QUERY</td>\n",
       "      <td>roseclear</td>\n",
       "      <td>SUCH a good sleep! I don't want to leave Brian.</td>\n",
       "    </tr>\n",
       "  </tbody>\n",
       "</table>\n",
       "</div>"
      ],
      "text/plain": [
       "         target   unique_id                          date      flag  \\\n",
       "73820         0  1694637805  Mon May 04 03:30:54 PDT 2009  NO_QUERY   \n",
       "1441013       4  2061758921  Sat Jun 06 21:33:06 PDT 2009  NO_QUERY   \n",
       "259100        0  1985345167  Sun May 31 16:55:36 PDT 2009  NO_QUERY   \n",
       "733352        0  2264292859  Sun Jun 21 03:24:04 PDT 2009  NO_QUERY   \n",
       "1451370       4  2063034018  Sun Jun 07 01:08:08 PDT 2009  NO_QUERY   \n",
       "720149        0  2260806816  Sat Jun 20 19:48:12 PDT 2009  NO_QUERY   \n",
       "1543919       4  2181546274  Mon Jun 15 11:58:34 PDT 2009  NO_QUERY   \n",
       "1428145       4  2059514508  Sat Jun 06 17:05:14 PDT 2009  NO_QUERY   \n",
       "353906        0  2033496016  Thu Jun 04 12:47:14 PDT 2009  NO_QUERY   \n",
       "743728        0  2266930834  Sun Jun 21 09:20:22 PDT 2009  NO_QUERY   \n",
       "\n",
       "                 user_id                                               text  \n",
       "73820           clrzqstn  I think, we'll be out of town on the 16th.  Th...  \n",
       "1441013    MeganCrossett  HOME!! Thanks @saintsammy and @eliza_electric ...  \n",
       "259100            xolove  I seriously miss @teamjacobsucks so much I mig...  \n",
       "733352            cominu                      back from Milan...dead tired   \n",
       "1451370      licksharder  @NaiveLondonGirl good for you girl! recommend ...  \n",
       "720149         MissElyon            @Mcpattz  J.D salinger? awww that suck   \n",
       "1543919       karinonoda  aaaand for @jonas brothers for the best album ...  \n",
       "1428145  marilynstjulian  Dads in Africa for 2 weeks = boosin', sexin', ...  \n",
       "353906        shallowend  Very sneezy today, and my throat just started ...  \n",
       "743728         roseclear   SUCH a good sleep! I don't want to leave Brian.   "
      ]
     },
     "execution_count": 5,
     "metadata": {},
     "output_type": "execute_result"
    }
   ],
   "source": [
    "# df = pd.read_csv(\"training.csv\", encoding=\"ISO-8859-1\")\n",
    "df = pd.read_csv(\"training.csv\", header=None, names=[\"target\", \"unique_id\", \"date\", \"flag\", \"user_id\", \"text\"], encoding=\"ISO-8859-1\")\n",
    "df.sample(10)"
   ]
  },
  {
   "cell_type": "code",
   "execution_count": 6,
   "metadata": {},
   "outputs": [
    {
     "name": "stdout",
     "output_type": "stream",
     "text": [
      "<class 'pandas.core.frame.DataFrame'>\n",
      "RangeIndex: 1600000 entries, 0 to 1599999\n",
      "Data columns (total 6 columns):\n",
      " #   Column     Non-Null Count    Dtype \n",
      "---  ------     --------------    ----- \n",
      " 0   target     1600000 non-null  int64 \n",
      " 1   unique_id  1600000 non-null  int64 \n",
      " 2   date       1600000 non-null  object\n",
      " 3   flag       1600000 non-null  object\n",
      " 4   user_id    1600000 non-null  object\n",
      " 5   text       1600000 non-null  object\n",
      "dtypes: int64(2), object(4)\n",
      "memory usage: 73.2+ MB\n"
     ]
    }
   ],
   "source": [
    "df.info()"
   ]
  },
  {
   "cell_type": "code",
   "execution_count": 7,
   "metadata": {},
   "outputs": [
    {
     "data": {
      "text/plain": [
       "(1600000, 6)"
      ]
     },
     "execution_count": 7,
     "metadata": {},
     "output_type": "execute_result"
    }
   ],
   "source": [
    "df.shape"
   ]
  },
  {
   "cell_type": "code",
   "execution_count": 8,
   "metadata": {},
   "outputs": [],
   "source": [
    "df.drop(['unique_id','date','flag','user_id'], axis = 1, inplace = True) "
   ]
  },
  {
   "cell_type": "code",
   "execution_count": 9,
   "metadata": {},
   "outputs": [
    {
     "name": "stdout",
     "output_type": "stream",
     "text": [
      "<class 'pandas.core.frame.DataFrame'>\n",
      "RangeIndex: 1600000 entries, 0 to 1599999\n",
      "Data columns (total 2 columns):\n",
      " #   Column  Non-Null Count    Dtype \n",
      "---  ------  --------------    ----- \n",
      " 0   target  1600000 non-null  int64 \n",
      " 1   text    1600000 non-null  object\n",
      "dtypes: int64(1), object(1)\n",
      "memory usage: 24.4+ MB\n"
     ]
    }
   ],
   "source": [
    "df.info()"
   ]
  },
  {
   "cell_type": "code",
   "execution_count": 10,
   "metadata": {},
   "outputs": [
    {
     "data": {
      "text/html": [
       "<div>\n",
       "<style scoped>\n",
       "    .dataframe tbody tr th:only-of-type {\n",
       "        vertical-align: middle;\n",
       "    }\n",
       "\n",
       "    .dataframe tbody tr th {\n",
       "        vertical-align: top;\n",
       "    }\n",
       "\n",
       "    .dataframe thead th {\n",
       "        text-align: right;\n",
       "    }\n",
       "</style>\n",
       "<table border=\"1\" class=\"dataframe\">\n",
       "  <thead>\n",
       "    <tr style=\"text-align: right;\">\n",
       "      <th></th>\n",
       "      <th>target</th>\n",
       "      <th>text</th>\n",
       "    </tr>\n",
       "  </thead>\n",
       "  <tbody>\n",
       "    <tr>\n",
       "      <th>1234065</th>\n",
       "      <td>4</td>\n",
       "      <td>@nicosiaoceania Oh, i'ts great!!!  I'm in 4th ...</td>\n",
       "    </tr>\n",
       "    <tr>\n",
       "      <th>9852</th>\n",
       "      <td>0</td>\n",
       "      <td>Yeah had to call into work today. The Dr. is g...</td>\n",
       "    </tr>\n",
       "    <tr>\n",
       "      <th>1370745</th>\n",
       "      <td>4</td>\n",
       "      <td>Okay so im alil drunk right now, been drinking...</td>\n",
       "    </tr>\n",
       "    <tr>\n",
       "      <th>384862</th>\n",
       "      <td>0</td>\n",
       "      <td>Good morning all! Plans for today have been sc...</td>\n",
       "    </tr>\n",
       "    <tr>\n",
       "      <th>20730</th>\n",
       "      <td>0</td>\n",
       "      <td>Has loads of coursework to do</td>\n",
       "    </tr>\n",
       "    <tr>\n",
       "      <th>1215659</th>\n",
       "      <td>4</td>\n",
       "      <td>@TimothyH2O watch the andy samberg opening act...</td>\n",
       "    </tr>\n",
       "    <tr>\n",
       "      <th>653557</th>\n",
       "      <td>0</td>\n",
       "      <td>wish it wasn't so crappy outside    iwanna go ...</td>\n",
       "    </tr>\n",
       "    <tr>\n",
       "      <th>1019085</th>\n",
       "      <td>4</td>\n",
       "      <td>@barb72 Lol just to cap off a gr8 week  how u ...</td>\n",
       "    </tr>\n",
       "    <tr>\n",
       "      <th>756659</th>\n",
       "      <td>0</td>\n",
       "      <td>Grillin some turkey sausage...  what a day</td>\n",
       "    </tr>\n",
       "    <tr>\n",
       "      <th>909977</th>\n",
       "      <td>4</td>\n",
       "      <td>just got home from Tillie's dance recital. lol...</td>\n",
       "    </tr>\n",
       "  </tbody>\n",
       "</table>\n",
       "</div>"
      ],
      "text/plain": [
       "         target                                               text\n",
       "1234065       4  @nicosiaoceania Oh, i'ts great!!!  I'm in 4th ...\n",
       "9852          0  Yeah had to call into work today. The Dr. is g...\n",
       "1370745       4  Okay so im alil drunk right now, been drinking...\n",
       "384862        0  Good morning all! Plans for today have been sc...\n",
       "20730         0                     Has loads of coursework to do \n",
       "1215659       4  @TimothyH2O watch the andy samberg opening act...\n",
       "653557        0  wish it wasn't so crappy outside    iwanna go ...\n",
       "1019085       4  @barb72 Lol just to cap off a gr8 week  how u ...\n",
       "756659        0         Grillin some turkey sausage...  what a day\n",
       "909977        4  just got home from Tillie's dance recital. lol..."
      ]
     },
     "execution_count": 10,
     "metadata": {},
     "output_type": "execute_result"
    }
   ],
   "source": [
    "df.sample(10)"
   ]
  },
  {
   "cell_type": "code",
   "execution_count": 11,
   "metadata": {},
   "outputs": [],
   "source": [
    "df.rename(columns={'target': 'sentiment', 'text': 'tweet'}, inplace = True)"
   ]
  },
  {
   "cell_type": "code",
   "execution_count": 12,
   "metadata": {},
   "outputs": [
    {
     "data": {
      "text/html": [
       "<div>\n",
       "<style scoped>\n",
       "    .dataframe tbody tr th:only-of-type {\n",
       "        vertical-align: middle;\n",
       "    }\n",
       "\n",
       "    .dataframe tbody tr th {\n",
       "        vertical-align: top;\n",
       "    }\n",
       "\n",
       "    .dataframe thead th {\n",
       "        text-align: right;\n",
       "    }\n",
       "</style>\n",
       "<table border=\"1\" class=\"dataframe\">\n",
       "  <thead>\n",
       "    <tr style=\"text-align: right;\">\n",
       "      <th></th>\n",
       "      <th>sentiment</th>\n",
       "      <th>tweet</th>\n",
       "    </tr>\n",
       "  </thead>\n",
       "  <tbody>\n",
       "    <tr>\n",
       "      <th>295777</th>\n",
       "      <td>0</td>\n",
       "      <td>Aw whats wrong  ~LoveMySexyJellyBean~</td>\n",
       "    </tr>\n",
       "    <tr>\n",
       "      <th>677126</th>\n",
       "      <td>0</td>\n",
       "      <td>@NYCP Let's be clear..even if he didn't win, h...</td>\n",
       "    </tr>\n",
       "    <tr>\n",
       "      <th>993150</th>\n",
       "      <td>4</td>\n",
       "      <td>my playlist is full of Taylor Swift's songs! +...</td>\n",
       "    </tr>\n",
       "    <tr>\n",
       "      <th>1539119</th>\n",
       "      <td>4</td>\n",
       "      <td>Ok,....I think I've calmed down a little.  My ...</td>\n",
       "    </tr>\n",
       "    <tr>\n",
       "      <th>581488</th>\n",
       "      <td>0</td>\n",
       "      <td>@OfficialNichole damn i really wish i could go...</td>\n",
       "    </tr>\n",
       "    <tr>\n",
       "      <th>382434</th>\n",
       "      <td>0</td>\n",
       "      <td>Home now. Wanting to be with B.</td>\n",
       "    </tr>\n",
       "    <tr>\n",
       "      <th>1467911</th>\n",
       "      <td>4</td>\n",
       "      <td>@micaella_ella i had such a hard time choosing...</td>\n",
       "    </tr>\n",
       "    <tr>\n",
       "      <th>679076</th>\n",
       "      <td>0</td>\n",
       "      <td>It's like 80 degrees in my room  sleep seems l...</td>\n",
       "    </tr>\n",
       "    <tr>\n",
       "      <th>78018</th>\n",
       "      <td>0</td>\n",
       "      <td>Elena lost the balloon I gave her  she couldn'...</td>\n",
       "    </tr>\n",
       "    <tr>\n",
       "      <th>1569884</th>\n",
       "      <td>4</td>\n",
       "      <td>@bankervision you're lucky you have the tube f...</td>\n",
       "    </tr>\n",
       "  </tbody>\n",
       "</table>\n",
       "</div>"
      ],
      "text/plain": [
       "         sentiment                                              tweet\n",
       "295777           0              Aw whats wrong  ~LoveMySexyJellyBean~\n",
       "677126           0  @NYCP Let's be clear..even if he didn't win, h...\n",
       "993150           4  my playlist is full of Taylor Swift's songs! +...\n",
       "1539119          4  Ok,....I think I've calmed down a little.  My ...\n",
       "581488           0  @OfficialNichole damn i really wish i could go...\n",
       "382434           0                   Home now. Wanting to be with B. \n",
       "1467911          4  @micaella_ella i had such a hard time choosing...\n",
       "679076           0  It's like 80 degrees in my room  sleep seems l...\n",
       "78018            0  Elena lost the balloon I gave her  she couldn'...\n",
       "1569884          4  @bankervision you're lucky you have the tube f..."
      ]
     },
     "execution_count": 12,
     "metadata": {},
     "output_type": "execute_result"
    }
   ],
   "source": [
    "df.sample(10)"
   ]
  },
  {
   "cell_type": "code",
   "execution_count": 13,
   "metadata": {},
   "outputs": [
    {
     "data": {
      "text/html": [
       "<div>\n",
       "<style scoped>\n",
       "    .dataframe tbody tr th:only-of-type {\n",
       "        vertical-align: middle;\n",
       "    }\n",
       "\n",
       "    .dataframe tbody tr th {\n",
       "        vertical-align: top;\n",
       "    }\n",
       "\n",
       "    .dataframe thead th {\n",
       "        text-align: right;\n",
       "    }\n",
       "</style>\n",
       "<table border=\"1\" class=\"dataframe\">\n",
       "  <thead>\n",
       "    <tr style=\"text-align: right;\">\n",
       "      <th></th>\n",
       "      <th>sentiment</th>\n",
       "      <th>tweet</th>\n",
       "    </tr>\n",
       "  </thead>\n",
       "  <tbody>\n",
       "    <tr>\n",
       "      <th>1020046</th>\n",
       "      <td>4</td>\n",
       "      <td>@Hargarmoopy DON'T say ONE wrong word about Jo...</td>\n",
       "    </tr>\n",
       "    <tr>\n",
       "      <th>530949</th>\n",
       "      <td>0</td>\n",
       "      <td>@sandygrason Don't know if I'll be available t...</td>\n",
       "    </tr>\n",
       "    <tr>\n",
       "      <th>444284</th>\n",
       "      <td>0</td>\n",
       "      <td>Wanting to see Phish</td>\n",
       "    </tr>\n",
       "    <tr>\n",
       "      <th>290645</th>\n",
       "      <td>0</td>\n",
       "      <td>@rpgdude my spanish aren't that good  I know M...</td>\n",
       "    </tr>\n",
       "    <tr>\n",
       "      <th>215080</th>\n",
       "      <td>0</td>\n",
       "      <td>@kayden_kross Watch your back! That rabbit sou...</td>\n",
       "    </tr>\n",
       "    <tr>\n",
       "      <th>1354090</th>\n",
       "      <td>4</td>\n",
       "      <td>http://twitpic.com/6osxf - Me,Sammeh,and Miss ...</td>\n",
       "    </tr>\n",
       "    <tr>\n",
       "      <th>242909</th>\n",
       "      <td>0</td>\n",
       "      <td>i'm laying around because scott took the fishi...</td>\n",
       "    </tr>\n",
       "    <tr>\n",
       "      <th>1141980</th>\n",
       "      <td>4</td>\n",
       "      <td>I would like a plum. They are more dark blue t...</td>\n",
       "    </tr>\n",
       "    <tr>\n",
       "      <th>386499</th>\n",
       "      <td>0</td>\n",
       "      <td>Ugh....snow in June...it's just not right.</td>\n",
       "    </tr>\n",
       "    <tr>\n",
       "      <th>1131139</th>\n",
       "      <td>4</td>\n",
       "      <td>jus got out of the shower work was busy...my f...</td>\n",
       "    </tr>\n",
       "  </tbody>\n",
       "</table>\n",
       "</div>"
      ],
      "text/plain": [
       "         sentiment                                              tweet\n",
       "1020046          4  @Hargarmoopy DON'T say ONE wrong word about Jo...\n",
       "530949           0  @sandygrason Don't know if I'll be available t...\n",
       "444284           0                              Wanting to see Phish \n",
       "290645           0  @rpgdude my spanish aren't that good  I know M...\n",
       "215080           0  @kayden_kross Watch your back! That rabbit sou...\n",
       "1354090          4  http://twitpic.com/6osxf - Me,Sammeh,and Miss ...\n",
       "242909           0  i'm laying around because scott took the fishi...\n",
       "1141980          4  I would like a plum. They are more dark blue t...\n",
       "386499           0        Ugh....snow in June...it's just not right. \n",
       "1131139          4  jus got out of the shower work was busy...my f..."
      ]
     },
     "execution_count": 13,
     "metadata": {},
     "output_type": "execute_result"
    }
   ],
   "source": [
    "df = df.dropna()\n",
    "df.sample(10)"
   ]
  },
  {
   "cell_type": "code",
   "execution_count": 14,
   "metadata": {},
   "outputs": [
    {
     "name": "stdout",
     "output_type": "stream",
     "text": [
      "<class 'pandas.core.frame.DataFrame'>\n",
      "RangeIndex: 1600000 entries, 0 to 1599999\n",
      "Data columns (total 2 columns):\n",
      " #   Column     Non-Null Count    Dtype \n",
      "---  ------     --------------    ----- \n",
      " 0   sentiment  1600000 non-null  int64 \n",
      " 1   tweet      1600000 non-null  object\n",
      "dtypes: int64(1), object(1)\n",
      "memory usage: 24.4+ MB\n",
      "None\n",
      "The Shape Of The Dataset Is : (1600000, 2)\n"
     ]
    }
   ],
   "source": [
    "print(df.info())\n",
    "print(\"The Shape Of The Dataset Is :\",df.shape)"
   ]
  },
  {
   "cell_type": "code",
   "execution_count": 15,
   "metadata": {},
   "outputs": [],
   "source": [
    "df['sentiment'] = df['sentiment'].replace({0: 'negative', 4: 'positive'})"
   ]
  },
  {
   "cell_type": "code",
   "execution_count": 16,
   "metadata": {},
   "outputs": [
    {
     "data": {
      "text/html": [
       "<div>\n",
       "<style scoped>\n",
       "    .dataframe tbody tr th:only-of-type {\n",
       "        vertical-align: middle;\n",
       "    }\n",
       "\n",
       "    .dataframe tbody tr th {\n",
       "        vertical-align: top;\n",
       "    }\n",
       "\n",
       "    .dataframe thead th {\n",
       "        text-align: right;\n",
       "    }\n",
       "</style>\n",
       "<table border=\"1\" class=\"dataframe\">\n",
       "  <thead>\n",
       "    <tr style=\"text-align: right;\">\n",
       "      <th></th>\n",
       "      <th>sentiment</th>\n",
       "      <th>tweet</th>\n",
       "    </tr>\n",
       "  </thead>\n",
       "  <tbody>\n",
       "    <tr>\n",
       "      <th>1342866</th>\n",
       "      <td>positive</td>\n",
       "      <td>just chillin until softball tonite!!!!!</td>\n",
       "    </tr>\n",
       "    <tr>\n",
       "      <th>1200638</th>\n",
       "      <td>positive</td>\n",
       "      <td>definitely in the top three!  vi@paulisded: &amp;q...</td>\n",
       "    </tr>\n",
       "    <tr>\n",
       "      <th>530751</th>\n",
       "      <td>negative</td>\n",
       "      <td>playin hooky and chillin with Lauren before sh...</td>\n",
       "    </tr>\n",
       "    <tr>\n",
       "      <th>1064530</th>\n",
       "      <td>positive</td>\n",
       "      <td>@Herbguy Curious, what facility do you use now...</td>\n",
       "    </tr>\n",
       "    <tr>\n",
       "      <th>1098244</th>\n",
       "      <td>positive</td>\n",
       "      <td>@mthe71 enjoy fika! we have the sun here too-w...</td>\n",
       "    </tr>\n",
       "  </tbody>\n",
       "</table>\n",
       "</div>"
      ],
      "text/plain": [
       "        sentiment                                              tweet\n",
       "1342866  positive           just chillin until softball tonite!!!!! \n",
       "1200638  positive  definitely in the top three!  vi@paulisded: &q...\n",
       "530751   negative  playin hooky and chillin with Lauren before sh...\n",
       "1064530  positive  @Herbguy Curious, what facility do you use now...\n",
       "1098244  positive  @mthe71 enjoy fika! we have the sun here too-w..."
      ]
     },
     "execution_count": 16,
     "metadata": {},
     "output_type": "execute_result"
    }
   ],
   "source": [
    "df.sample(5)"
   ]
  },
  {
   "cell_type": "code",
   "execution_count": 17,
   "metadata": {},
   "outputs": [],
   "source": [
    "# Remove URLs, special characters, punctuation, and numbers from tweet column\n",
    "df['tweet'] = df['tweet'].apply(lambda x: re.sub(r'http\\S+', '', x))\n",
    "df['tweet'] = df['tweet'].apply(lambda x: re.sub('[^a-zA-Z\\s]', '', x))\n",
    "df['tweet'] = df['tweet'].apply(lambda x: re.sub('[0-9]+', '', x))\n"
   ]
  },
  {
   "cell_type": "code",
   "execution_count": 18,
   "metadata": {},
   "outputs": [
    {
     "name": "stdout",
     "output_type": "stream",
     "text": [
      "        sentiment                                              tweet\n",
      "1473331  positive    JohnnyBTruant she thinks her mothers hilarious \n",
      "646657   negative  I just dreamt I was at a Growing Pains reunion...\n",
      "192293   negative  Argh Buried under the contracts in iTunes Conn...\n",
      "52291    negative                          i want to get snakebites \n",
      "1381863  positive    devilworks                                 \n",
      "474153   negative  Looking forward to a day of family assessments...\n",
      "310682   negative  hangyourcross I should just reply to you on AI...\n",
      "249192   negative  Played a soccergame today i hurt my leg  Now i...\n",
      "693291   negative  Kids warn your grandparents about the CDN Car ...\n",
      "325155   negative  screw history revisionim gonna mourn the loss ...\n",
      "\u001b[1mThe information of the dataset is :\u001b[0m\n",
      "<class 'pandas.core.frame.DataFrame'>\n",
      "RangeIndex: 1600000 entries, 0 to 1599999\n",
      "Data columns (total 2 columns):\n",
      " #   Column     Non-Null Count    Dtype \n",
      "---  ------     --------------    ----- \n",
      " 0   sentiment  1600000 non-null  object\n",
      " 1   tweet      1600000 non-null  object\n",
      "dtypes: object(2)\n",
      "memory usage: 24.4+ MB\n",
      "None\n",
      "\u001b[1mThe Shape Of The Dataset Is :\u001b[0m (1600000, 2)\n"
     ]
    }
   ],
   "source": [
    "print(df.sample(10))\n",
    "print('\\033[1m' + 'The information of the dataset is :' + '\\033[0m')\n",
    "print(df.info())\n",
    "print('\\033[1m' + 'The Shape Of The Dataset Is :' + '\\033[0m',df.shape)"
   ]
  },
  {
   "cell_type": "code",
   "execution_count": 19,
   "metadata": {},
   "outputs": [],
   "source": [
    "df['tweet'] = df['tweet'].str.lower()"
   ]
  },
  {
   "cell_type": "code",
   "execution_count": 20,
   "metadata": {},
   "outputs": [
    {
     "data": {
      "text/html": [
       "<div>\n",
       "<style scoped>\n",
       "    .dataframe tbody tr th:only-of-type {\n",
       "        vertical-align: middle;\n",
       "    }\n",
       "\n",
       "    .dataframe tbody tr th {\n",
       "        vertical-align: top;\n",
       "    }\n",
       "\n",
       "    .dataframe thead th {\n",
       "        text-align: right;\n",
       "    }\n",
       "</style>\n",
       "<table border=\"1\" class=\"dataframe\">\n",
       "  <thead>\n",
       "    <tr style=\"text-align: right;\">\n",
       "      <th></th>\n",
       "      <th>sentiment</th>\n",
       "      <th>tweet</th>\n",
       "    </tr>\n",
       "  </thead>\n",
       "  <tbody>\n",
       "    <tr>\n",
       "      <th>591323</th>\n",
       "      <td>negative</td>\n",
       "      <td>moorephoto after i just left</td>\n",
       "    </tr>\n",
       "    <tr>\n",
       "      <th>908283</th>\n",
       "      <td>positive</td>\n",
       "      <td>ahhh bank holiday slept late now going to dinn...</td>\n",
       "    </tr>\n",
       "    <tr>\n",
       "      <th>1550917</th>\n",
       "      <td>positive</td>\n",
       "      <td>cmmpr i agree for business folk it has to end ...</td>\n",
       "    </tr>\n",
       "    <tr>\n",
       "      <th>607168</th>\n",
       "      <td>negative</td>\n",
       "      <td>puppies   didnt know some of their names</td>\n",
       "    </tr>\n",
       "    <tr>\n",
       "      <th>238846</th>\n",
       "      <td>negative</td>\n",
       "      <td>marleythelemur im actually not that sore my fe...</td>\n",
       "    </tr>\n",
       "    <tr>\n",
       "      <th>1100675</th>\n",
       "      <td>positive</td>\n",
       "      <td>mr twitter universe competition ends in  days ...</td>\n",
       "    </tr>\n",
       "    <tr>\n",
       "      <th>1258102</th>\n",
       "      <td>positive</td>\n",
       "      <td>tbh cheap chocolate tastes nicer exept wonker</td>\n",
       "    </tr>\n",
       "    <tr>\n",
       "      <th>1387335</th>\n",
       "      <td>positive</td>\n",
       "      <td>farnush it is the one that we went adabor</td>\n",
       "    </tr>\n",
       "    <tr>\n",
       "      <th>1597754</th>\n",
       "      <td>positive</td>\n",
       "      <td>divokc our office is soooo busy we wouldnt hav...</td>\n",
       "    </tr>\n",
       "    <tr>\n",
       "      <th>1467393</th>\n",
       "      <td>positive</td>\n",
       "      <td>new blog post up  and flickr upload</td>\n",
       "    </tr>\n",
       "  </tbody>\n",
       "</table>\n",
       "</div>"
      ],
      "text/plain": [
       "        sentiment                                              tweet\n",
       "591323   negative                      moorephoto after i just left \n",
       "908283   positive  ahhh bank holiday slept late now going to dinn...\n",
       "1550917  positive  cmmpr i agree for business folk it has to end ...\n",
       "607168   negative          puppies   didnt know some of their names \n",
       "238846   negative  marleythelemur im actually not that sore my fe...\n",
       "1100675  positive  mr twitter universe competition ends in  days ...\n",
       "1258102  positive     tbh cheap chocolate tastes nicer exept wonker \n",
       "1387335  positive        farnush it is the one that we went adabor  \n",
       "1597754  positive  divokc our office is soooo busy we wouldnt hav...\n",
       "1467393  positive         new blog post up  and flickr upload       "
      ]
     },
     "execution_count": 20,
     "metadata": {},
     "output_type": "execute_result"
    }
   ],
   "source": [
    "df.sample(10)"
   ]
  },
  {
   "cell_type": "code",
   "execution_count": 21,
   "metadata": {},
   "outputs": [],
   "source": [
    "# stop_words = set(stopwords.words('english'))\n",
    "# df['tweet'] = df['tweet'].apply(lambda x: ' '.join(word for word in x.split() if word not in stop_words))"
   ]
  },
  {
   "cell_type": "code",
   "execution_count": 22,
   "metadata": {},
   "outputs": [
    {
     "ename": "",
     "evalue": "",
     "output_type": "error",
     "traceback": [
      "\u001b[1;31mThe Kernel crashed while executing code in the the current cell or a previous cell. Please review the code in the cell(s) to identify a possible cause of the failure. Click <a href='https://aka.ms/vscodeJupyterKernelCrash'>here</a> for more info. View Jupyter <a href='command:jupyter.viewOutput'>log</a> for further details."
     ]
    },
    {
     "ename": "",
     "evalue": "",
     "output_type": "error",
     "traceback": [
      "\u001b[1;31mCanceled future for execute_request message before replies were done"
     ]
    }
   ],
   "source": [
    "# Extract features using TfidfVectorizer\n",
    "vectorizer = TfidfVectorizer(max_features=5000, ngram_range=(1,3))\n",
    "X = vectorizer.fit_transform(df['tweet'])\n",
    "y = df['target']"
   ]
  },
  {
   "cell_type": "code",
   "execution_count": null,
   "metadata": {},
   "outputs": [],
   "source": [
    "X_train, X_test, y_train, y_test = train_test_split(X, y, test_size=0.2, random_state=42)"
   ]
  },
  {
   "cell_type": "code",
   "execution_count": null,
   "metadata": {},
   "outputs": [],
   "source": []
  }
 ],
 "metadata": {
  "kernelspec": {
   "display_name": "env",
   "language": "python",
   "name": "python3"
  },
  "language_info": {
   "codemirror_mode": {
    "name": "ipython",
    "version": 3
   },
   "file_extension": ".py",
   "mimetype": "text/x-python",
   "name": "python",
   "nbconvert_exporter": "python",
   "pygments_lexer": "ipython3",
   "version": "3.10.6"
  },
  "orig_nbformat": 4
 },
 "nbformat": 4,
 "nbformat_minor": 2
}
